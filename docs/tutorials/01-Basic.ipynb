{
 "cells": [
  {
   "cell_type": "markdown",
   "id": "33004314",
   "metadata": {},
   "source": [
    "# Tutorial & Widget Experiments\n",
    "This notebook is intended to be a simple `getting started` tutorial for `pyMBE`."
   ]
  },
  {
   "cell_type": "markdown",
   "id": "c502084a",
   "metadata": {},
   "source": [
    "## 1. Import `pymbe` and create a new user interface"
   ]
  },
  {
   "cell_type": "code",
   "execution_count": 1,
   "id": "bfc0f450",
   "metadata": {},
   "outputs": [],
   "source": [
    "from pathlib import Path\n",
    "\n",
    "import pymbe.api as pm"
   ]
  },
  {
   "cell_type": "code",
   "execution_count": 2,
   "id": "f0621cff",
   "metadata": {
    "tags": []
   },
   "outputs": [
    {
     "data": {
      "application/vnd.jupyter.widget-view+json": {
       "model_id": "03be21a0b4fb4df1a8d3c327b8b57f46",
       "version_major": 2,
       "version_minor": 0
      },
      "text/plain": [
       "DockPop(children=(UI(children=(ContainmentTree(children=(HBox(children=(Button(icon='folder-open', layout=Layo…"
      ]
     },
     "metadata": {},
     "output_type": "display_data"
    }
   ],
   "source": [
    "pm.UI.new(host_url=\"http://sysml2.intercax.com\")"
   ]
  },
  {
   "cell_type": "markdown",
   "id": "cd9c18cb",
   "metadata": {},
   "source": [
    "## 2. Use the widget\n",
    "![Example use of the UI](https://user-images.githubusercontent.com/1438114/132993186-858063a7-1bb7-483b-b3be-0d61d3d27fca.gif)"
   ]
  },
  {
   "cell_type": "markdown",
   "id": "f12fc230",
   "metadata": {},
   "source": [
    "...or automatically load the `Kerbal` model using the cell below by:"
   ]
  },
  {
   "cell_type": "markdown",
   "id": "b54ecbc5",
   "metadata": {},
   "source": [
    "1. Grabbing the individual widgets"
   ]
  },
  {
   "cell_type": "code",
   "execution_count": 3,
   "id": "e4e45976",
   "metadata": {
    "tags": []
   },
   "outputs": [
    {
     "data": {
      "application/vnd.jupyter.widget-view+json": {
       "model_id": "bd7fb6c9d0e449e8861282860d3e6238",
       "version_major": 2,
       "version_minor": 0
      },
      "text/plain": [
       "Output()"
      ]
     },
     "metadata": {},
     "output_type": "display_data"
    }
   ],
   "source": [
    "ui, *_ = _.children\n",
    "tree, inspector, m1_diagram, m0_diagram = ui.children\n",
    "ui.log_out"
   ]
  },
  {
   "cell_type": "code",
   "execution_count": 14,
   "id": "eb6d9d42-98ea-4ad9-a3e9-57529cc74ea2",
   "metadata": {},
   "outputs": [
    {
     "data": {
      "text/plain": [
       "'http://sysml2-dev.intercax.com:9000/projects/59eee0cd-c17b-41b8-a875-30870e913216/commits/782c0631-119b-4a1a-a571-1230757cd96f/elements?page[size]=8000'"
      ]
     },
     "execution_count": 14,
     "metadata": {},
     "output_type": "execute_result"
    }
   ],
   "source": [
    "tree.api_client.elements_url + \"?page[size]=8000\""
   ]
  },
  {
   "cell_type": "code",
   "execution_count": 15,
   "id": "1e64568f-5c20-48d2-a8fd-2378dd63f361",
   "metadata": {},
   "outputs": [],
   "source": [
    "import requests\n",
    "\n",
    "resp = requests.get(tree.api_client.elements_url + \"?page[size]=8000\")"
   ]
  },
  {
   "cell_type": "code",
   "execution_count": 22,
   "id": "b553786a-2c4f-4284-8495-b77a1e20943b",
   "metadata": {},
   "outputs": [
    {
     "data": {
      "text/plain": [
       "6751"
      ]
     },
     "execution_count": 22,
     "metadata": {},
     "output_type": "execute_result"
    }
   ],
   "source": [
    "len(resp.json())"
   ]
  },
  {
   "cell_type": "code",
   "execution_count": 23,
   "id": "b8888fdc-6a69-4f7a-9092-4e0ac7dbe975",
   "metadata": {},
   "outputs": [
    {
     "data": {
      "text/plain": [
       "21158738"
      ]
     },
     "execution_count": 23,
     "metadata": {},
     "output_type": "execute_result"
    }
   ],
   "source": [
    "import json\n",
    "from pathlib import Path\n",
    "\n",
    "Path(\"raw.json\").write_text(json.dumps(resp.json()))"
   ]
  },
  {
   "cell_type": "code",
   "execution_count": 11,
   "id": "d64c5912-c2d0-4776-aace-e6a341936341",
   "metadata": {},
   "outputs": [
    {
     "ename": "KeyError",
     "evalue": "'d22baec3-a4ad-4253-8c84-fe6b73073af5'",
     "output_type": "error",
     "traceback": [
      "\u001b[1;31m---------------------------------------------------------------------------\u001b[0m",
      "\u001b[1;31mKeyError\u001b[0m                                  Traceback (most recent call last)",
      "\u001b[1;32m~\\AppData\\Local\\Temp/ipykernel_12372/279128212.py\u001b[0m in \u001b[0;36m<module>\u001b[1;34m\u001b[0m\n\u001b[0;32m      1\u001b[0m \u001b[0mmodel\u001b[0m \u001b[1;33m=\u001b[0m \u001b[0mtree\u001b[0m\u001b[1;33m.\u001b[0m\u001b[0mmodel\u001b[0m\u001b[1;33m\u001b[0m\u001b[1;33m\u001b[0m\u001b[0m\n\u001b[1;32m----> 2\u001b[1;33m \u001b[0mmodel\u001b[0m\u001b[1;33m.\u001b[0m\u001b[0melements\u001b[0m\u001b[1;33m[\u001b[0m\u001b[1;34m\"d22baec3-a4ad-4253-8c84-fe6b73073af5\"\u001b[0m\u001b[1;33m]\u001b[0m\u001b[1;33m\u001b[0m\u001b[1;33m\u001b[0m\u001b[0m\n\u001b[0m",
      "\u001b[1;31mKeyError\u001b[0m: 'd22baec3-a4ad-4253-8c84-fe6b73073af5'"
     ]
    }
   ],
   "source": [
    "model = tree.model\n",
    "model.elements[\"d22baec3-a4ad-4253-8c84-fe6b73073af5\"]"
   ]
  },
  {
   "cell_type": "markdown",
   "id": "2aefbe44",
   "metadata": {},
   "source": [
    "2. load a model\n",
    "\n",
    "> as specified by `PROJECT_NAME`"
   ]
  },
  {
   "cell_type": "code",
   "execution_count": 4,
   "id": "d976b48f",
   "metadata": {
    "tags": []
   },
   "outputs": [],
   "source": [
    "USE_FILE = True\n",
    "\n",
    "PROJECT_NAME = \"2a-Parts Interconnection\"  # \"Simple Parts Model\" is too large for testing\n",
    "\n",
    "FIXTURES =  Path(pm.__file__).parent / \"../../tests/fixtures\"\n",
    "\n",
    "if USE_FILE:\n",
    "    tree.model = pm.Model.load_from_file(FIXTURES / f\"{PROJECT_NAME}.json\")\n",
    "else:\n",
    "    client = tree.api_client\n",
    "    project_names = [name for name in client.project_selector.options if name.startswith(PROJECT_NAME)]\n",
    "    if project_names:\n",
    "        *_, last_project = project_names\n",
    "        client.project_selector.value = client.project_selector.options[last_project]\n",
    "        client._download_elements()"
   ]
  },
  {
   "cell_type": "code",
   "execution_count": 5,
   "id": "316095be-5136-41bb-a659-288a4b024898",
   "metadata": {},
   "outputs": [],
   "source": [
    "SAVE_FILE = False\n",
    "\n",
    "if SAVE_FILE:\n",
    "    FILENAME = PROJECT_NAME.split(\" (\")[0]\n",
    "    print(f\" > Saving {PROJECT_NAME}\")\n",
    "    tree.model.save_to_file(FIXTURES / f\"{FILENAME}.json\")\n",
    "    print(f\" > Successfully Downloaded '{PROJECT_NAME}'\")"
   ]
  },
  {
   "cell_type": "markdown",
   "id": "163cc74b",
   "metadata": {},
   "source": [
    "...and, make an M0 interpretation"
   ]
  },
  {
   "cell_type": "markdown",
   "id": "76f4202b-09f1-46e4-aab6-299b49705960",
   "metadata": {},
   "source": [
    "You can get a subgraph for only some packages by using the `get_projection` method..."
   ]
  },
  {
   "cell_type": "code",
   "execution_count": 6,
   "id": "e264cf1d-60db-4487-9933-6231caa77983",
   "metadata": {},
   "outputs": [
    {
     "data": {
      "text/plain": [
       "185"
      ]
     },
     "execution_count": 6,
     "metadata": {},
     "output_type": "execute_result"
    }
   ],
   "source": [
    "banded_graph = m1_diagram.lpg.get_projection(\"Banded\", packages=tree.model.packages[0:10])\n",
    "len(banded_graph.nodes)"
   ]
  },
  {
   "cell_type": "markdown",
   "id": "d8f89460-38af-468a-b76b-677095be4afc",
   "metadata": {},
   "source": [
    "...or refresh the M1 diagram"
   ]
  },
  {
   "cell_type": "code",
   "execution_count": 7,
   "id": "0b7c8ea0-6fcc-41ca-a713-a5db3018c4e7",
   "metadata": {},
   "outputs": [],
   "source": [
    "toolbar = m1_diagram.elk_diagram.toolbar\n",
    "toolbar.projection_selector.label = \"Part Typing\"\n",
    "toolbar.refresh_diagram.click()"
   ]
  }
 ],
 "metadata": {
  "kernelspec": {
   "display_name": "Python 3 (ipykernel)",
   "language": "python",
   "name": "python3"
  },
  "language_info": {
   "codemirror_mode": {
    "name": "ipython",
    "version": 3
   },
   "file_extension": ".py",
   "mimetype": "text/x-python",
   "name": "python",
   "nbconvert_exporter": "python",
   "pygments_lexer": "ipython3",
   "version": "3.9.6"
  }
 },
 "nbformat": 4,
 "nbformat_minor": 5
}
