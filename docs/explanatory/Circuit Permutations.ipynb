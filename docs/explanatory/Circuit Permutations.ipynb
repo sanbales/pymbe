{
 "cells": [
  {
   "cell_type": "markdown",
   "id": "1577df35-0a5d-4ff0-8d54-bb0aff415b5e",
   "metadata": {},
   "source": [
    "# Permutations of a Simple Circuit\n",
    "\n",
    "This notebook walks through how to utilize the core semantics of SysML v2 to generate alternative circuits as inputs to an OpenMDAO solution of these circuits. \n",
    "\n",
    "## Background\n",
    "\n",
    "The M1 user model in SysML v2 is meant to be a set of constraints and rules under which legal instances can be created. Those instances should be taken as alternative produced systems and they can be analyzed in that way."
   ]
  },
  {
   "cell_type": "markdown",
   "id": "084ae194-f231-4775-8d8d-20bf0a6c47b6",
   "metadata": {},
   "source": [
    "## Libraries Load-Up\n",
    "\n",
    "Load up PyMBE and its various libraries."
   ]
  },
  {
   "cell_type": "code",
   "execution_count": null,
   "id": "0323aee7-19ef-4cba-959c-2dcd41603a8e",
   "metadata": {},
   "outputs": [],
   "source": [
    "NUM_INTERPRETATIONS = 50\n",
    "NUM_RESISTORS = (2, 12)\n",
    "NUM_DIODES = (1, 2)\n",
    "NUM_CONNECTORS = (15, 30)"
   ]
  },
  {
   "cell_type": "code",
   "execution_count": null,
   "id": "74c6fcfb-bcc4-4e07-b4bd-e9bd2a3f17f1",
   "metadata": {},
   "outputs": [],
   "source": [
    "from pathlib import Path\n",
    "import networkx as nx\n",
    "import matplotlib as plt\n",
    "\n",
    "import pymbe.api as pm\n",
    "\n",
    "from pymbe.graph.lpg import SysML2LabeledPropertyGraph\n",
    "from pymbe.interpretation.interpretation import repack_instance_dictionaries\n",
    "from pymbe.interpretation.interp_playbooks import (\n",
    "    build_expression_sequence_templates,\n",
    "    build_sequence_templates,\n",
    "    random_generator_playbook,\n",
    "    random_generator_phase_1_multiplicities,\n",
    ")\n",
    "from pymbe.interpretation.results import *\n",
    "from pymbe.label import get_label_for_id\n",
    "from pymbe.query.metamodel_navigator import feature_multiplicity\n",
    "from pymbe.query.query import (\n",
    "    roll_up_multiplicity,\n",
    "    roll_up_upper_multiplicity,\n",
    "    roll_up_multiplicity_for_type,\n",
    "    get_types_for_feature,\n",
    "    get_features_typed_by_type,\n",
    ")\n",
    "from pymbe.local.stablization import build_stable_id_lookups"
   ]
  },
  {
   "cell_type": "markdown",
   "id": "d0047e8f-b755-46e6-b1b1-79fbe1036a65",
   "metadata": {},
   "source": [
    "## Load Up Model\n",
    "\n",
    "Read the model from the local JSON file."
   ]
  },
  {
   "cell_type": "code",
   "execution_count": null,
   "id": "5a8bde6a-7e81-45d6-88ae-9559776b9e33",
   "metadata": {},
   "outputs": [],
   "source": [
    "circuit_file = Path(pm.__file__).parent / \"../../tests/fixtures/Circuit Builder.json\"\n",
    "\n",
    "circuit_model = pm.Model.load_from_file(circuit_file)\n",
    "circuit_lpg = SysML2LabeledPropertyGraph(model=circuit_model)\n",
    "[id_to_circuit_name_lookup, circuit_name_to_id_lookup] = build_stable_id_lookups(circuit_lpg)\n",
    "\n",
    "circuit_lpg.model.MAX_MULTIPLICITY = 100"
   ]
  },
  {
   "cell_type": "markdown",
   "id": "12cf48ba-47b6-44c7-9eb8-3a8df5ff9bf2",
   "metadata": {},
   "source": [
    "## Explore Contents of Model with M1 in Memory\n",
    "\n",
    "Use the M1 memory objects to see what is in the current model, starting with the main packages."
   ]
  },
  {
   "cell_type": "code",
   "execution_count": null,
   "id": "d4f0ccf2-fae9-42cb-91fe-517c6424acca",
   "metadata": {},
   "outputs": [],
   "source": [
    "circuit_model.packages"
   ]
  },
  {
   "cell_type": "code",
   "execution_count": null,
   "id": "2ec2fc5c-6e1a-4aa8-bd93-295d93e93def",
   "metadata": {},
   "outputs": [],
   "source": [
    "circuit_model.ownedElement[\"Circuit Builder\"].ownedElement"
   ]
  },
  {
   "cell_type": "code",
   "execution_count": null,
   "id": "7abd99cf-4cfa-4b1a-bfc1-d1b1105b5ff9",
   "metadata": {},
   "outputs": [],
   "source": [
    "circuit_def = circuit_model.ownedElement[\"Circuit Builder\"].ownedElement[\"Circuit\"]"
   ]
  },
  {
   "cell_type": "markdown",
   "id": "283c91a3-e8fe-4ac0-bab5-306a288f280b",
   "metadata": {},
   "source": [
    "### Circuit and its Features\n",
    "\n",
    "Here is the circuit and its features, both parts and used connections."
   ]
  },
  {
   "cell_type": "code",
   "execution_count": null,
   "id": "731dea86-2411-4fb0-b223-88bef2cfbd93",
   "metadata": {},
   "outputs": [],
   "source": [
    "circuit_def.relationships"
   ]
  },
  {
   "cell_type": "code",
   "execution_count": null,
   "id": "28557de8-4ec2-42b6-a829-654fdc6b876e",
   "metadata": {},
   "outputs": [],
   "source": [
    "circuit_def.ownedMember"
   ]
  },
  {
   "cell_type": "markdown",
   "id": "fae3a150-6770-4567-b617-c8284b36600d",
   "metadata": {},
   "source": [
    "## Update multiplicities\n",
    "for `Resistors`, `Diodes`, and `Connections`"
   ]
  },
  {
   "cell_type": "code",
   "execution_count": null,
   "id": "c8cb350f-cb10-4eb6-8dd5-4a5f543c56c5",
   "metadata": {},
   "outputs": [],
   "source": [
    "multiplicity = circuit_def.ownedMember[\"Circuit Resistor\"].multiplicity\n",
    "multiplicity.lowerBound._data[\"value\"], multiplicity.upperBound._data[\"value\"] = NUM_RESISTORS\n",
    "\n",
    "multiplicity = circuit_def.ownedMember[\"Circuit Diode\"].multiplicity\n",
    "multiplicity.lowerBound._data[\"value\"], multiplicity.upperBound._data[\"value\"] = NUM_DIODES\n",
    "\n",
    "# Get the ConnectionUsage\n",
    "for member in circuit_def.ownedMember:\n",
    "    if member._metatype != \"ConnectionUsage\":\n",
    "        continue\n",
    "    member.multiplicity.lowerBound._data[\"value\"], member.multiplicity.upperBound._data[\"value\"] = NUM_CONNECTORS\n",
    "    connection = member"
   ]
  },
  {
   "cell_type": "markdown",
   "id": "94ea2e9f-f4af-4e97-9e5e-713f3833c12a",
   "metadata": {},
   "source": [
    "## Generate M0 instances from the M1 model\n",
    "\n",
    "Use the M1 model to start creating a series of instances to represent the circuits that should be analyzed."
   ]
  },
  {
   "cell_type": "code",
   "execution_count": null,
   "id": "5d107dc0-f186-476d-800e-723e4a1ed6e6",
   "metadata": {},
   "outputs": [],
   "source": [
    "m0_interpretations = [\n",
    "    random_generator_playbook(\n",
    "        lpg=circuit_lpg,\n",
    "        name_hints={},\n",
    "        filtered_feat_packages=[circuit_lpg.model.ownedElement[\"Circuit Builder\"]],\n",
    "        phase_limit=10,\n",
    "    ) for _ in range(NUM_INTERPRETATIONS)\n",
    "]"
   ]
  },
  {
   "cell_type": "markdown",
   "id": "1999bb54-3183-4f0f-8ee0-5e2bd172e602",
   "metadata": {},
   "source": [
    "### Sort the interpretations by number of connections\n",
    "Sorted from `most` to `least`, and pick the first one."
   ]
  },
  {
   "cell_type": "code",
   "execution_count": null,
   "id": "ee0363db-54ad-46b0-b633-191f1dac0e08",
   "metadata": {},
   "outputs": [],
   "source": [
    "# sort the interpretations from most connections to fewer connections\n",
    "m0_interpretations = [*sorted(m0_interpretations, key=lambda x: len(x[connection._id]), reverse=True)]\n",
    "m0_interpretation = m0_interpretations[0]"
   ]
  },
  {
   "cell_type": "markdown",
   "id": "e0d3308f-053c-4c28-8d09-3c681b48c941",
   "metadata": {},
   "source": [
    "## Filter M0 Instances for Reasonable Circuits\n",
    "\n",
    "Until we get more sophisticated and can interpret constraints, the initial approach is to filter out solutions with unanalyzable layouts or trim the layouts to something more tractable."
   ]
  },
  {
   "cell_type": "markdown",
   "id": "fa01e6bf-8afc-4182-b5b4-dca690f03ded",
   "metadata": {},
   "source": [
    "### Connector End Checks\n",
    "\n",
    "Look at the ends of the three main kinds of connectors."
   ]
  },
  {
   "cell_type": "code",
   "execution_count": null,
   "id": "70a0f874-05ea-4643-9162-ea836cc0d31d",
   "metadata": {},
   "outputs": [],
   "source": [
    "p2p = circuit_def.ownedMember[\"Part to Part\"]\n",
    "p2p.endFeature[0]._id"
   ]
  },
  {
   "cell_type": "code",
   "execution_count": null,
   "id": "b24b8b54-4d59-4a27-bc29-cbfefd5d01f0",
   "metadata": {},
   "outputs": [],
   "source": [
    "source_feat, target_feat = p2p.endFeature\n",
    "for source, target in zip(m0_interpretation[source_feat._id], m0_interpretation[target_feat._id]):\n",
    "    print(source, \"-->\", target)"
   ]
  },
  {
   "cell_type": "markdown",
   "id": "9b3f5ade-c02f-4ecb-874f-1af9cbbcd04a",
   "metadata": {},
   "source": [
    "> Janky A.F. connector filter\n",
    "\n",
    "The cell below filters out:\n",
    "* self-connections\n",
    "* duplicate connectors between the same m0 pins"
   ]
  },
  {
   "cell_type": "code",
   "execution_count": null,
   "id": "1f0eb117-4251-4ea1-9d90-f3e666f3d3ef",
   "metadata": {},
   "outputs": [],
   "source": [
    "import ipywidgets as ipyw\n",
    "import matplotlib.pyplot as plt\n",
    "from IPython.display import display\n",
    "\n",
    "\n",
    "def get_unique_connections(instances, feature):\n",
    "    source_feat, target_feat = feature\n",
    "    m0_connector_ends = [\n",
    "        (tuple(source), tuple(target))\n",
    "        for source, target in zip(instances[source_feat._id], instances[target_feat._id])\n",
    "    ]\n",
    "\n",
    "    m0_connector_ends = tuple({\n",
    "        (source, target)\n",
    "        for source, target in m0_connector_ends\n",
    "        if source[:-1] != target[:-1]\n",
    "    })\n",
    "\n",
    "    unique_connections = {\n",
    "        (source[-2:], target[-2:]): (source, target)\n",
    "        for source, target in m0_connector_ends\n",
    "    }\n",
    "    return tuple((source, target) for source, target in unique_connections.values())\n",
    "    return tuple((source, target) for source, target in m0_connector_ends)\n",
    "\n",
    "\n",
    "def draw_circuit(circuit_graph: nx.DiGraph, figsize=None, rad=0.1, arrowsize=40, linewidth=2, layout=\"kamada_kawai\"):\n",
    "    figsize = figsize or (20, 20)\n",
    "\n",
    "    color_dict = {\n",
    "        \"blue\": \"R\",\n",
    "        \"#A020F0\": \"D\",\n",
    "        \"red\": \"EMF\",\n",
    "    }\n",
    "    layout_algorithm = getattr(nx.layout, f\"{layout}_layout\")\n",
    "    node_pos = layout_algorithm(circuit_graph)\n",
    "\n",
    "    internal_edge_list = [\n",
    "        (n1, n2)\n",
    "        for n1, n2 in circuit_graph.edges\n",
    "        if n1[0] == n2[0]\n",
    "    ]\n",
    "    connect_edge_list = [\n",
    "        edge\n",
    "        for edge in circuit_graph.edges\n",
    "        if edge not in internal_edge_list\n",
    "    ]\n",
    "\n",
    "    plt.figure(figsize=figsize)\n",
    "    for color, colored_nodes in color_dict.items():\n",
    "        poses = {\n",
    "            node: loc\n",
    "            for node, loc in node_pos.items() if node[0].startswith(colored_nodes)\n",
    "        }\n",
    "        nx.draw_networkx_nodes(circuit_graph, poses, nodelist=list(poses.keys()), node_size=1200, node_color=color)\n",
    "        \n",
    "    nx.draw_networkx_edges(circuit_graph, node_pos, edgelist=connect_edge_list, edge_color=\"black\", width=linewidth, arrowsize=arrowsize, connectionstyle=f\"arc3,rad={rad}\")\n",
    "    nx.draw_networkx_edges(circuit_graph, node_pos, edgelist=internal_edge_list, edge_color=\"black\", width=linewidth, style=\"-.\", arrowsize=arrowsize, connectionstyle=f\"arc3,rad={rad}\")\n",
    "\n",
    "    labels = {(node, polarity): f\"{node}{'-' if polarity=='Neg' else '+'}\" for node, polarity in node_pos}\n",
    "    label_options = {\"boxstyle\": \"circle\", \"ec\": \"white\", \"fc\": \"white\", \"alpha\": 0.0}\n",
    "\n",
    "    nx.draw_networkx_labels(\n",
    "        circuit_graph,\n",
    "        node_pos,\n",
    "        labels,\n",
    "        font_size=8,\n",
    "        font_color=\"white\",\n",
    "        font_weight=\"bold\",\n",
    "        bbox=label_options,\n",
    "    )\n",
    "    plt.show()\n",
    "\n",
    "nx_layouts = sorted([\n",
    "    layout.replace(\"_layout\", \"\")\n",
    "    for layout in dir(nx.layout)\n",
    "    if layout.endswith(\"_layout\")\n",
    "    and not any(bad_stuff in layout for bad_stuff in (\"partite\", \"rescale\", \"planar\"))\n",
    "])\n",
    "    \n",
    "@ipyw.interact()\n",
    "def draw_graph(interpretation=(0, len(m0_interpretations)-1), edge_curvature=(0, 0.5, 0.05), linewidth=(1, 3, 0.2), layout=nx_layouts):\n",
    "    unique_connections = get_unique_connections(m0_interpretations[interpretation], p2p.endFeature)\n",
    "\n",
    "    def get_el_name(element):\n",
    "        name = element.name\n",
    "        name, num = name.split(\"#\")\n",
    "        name = name if name == \"EMF\" else name[0]\n",
    "        return name + num\n",
    "\n",
    "    graph = nx.DiGraph()\n",
    "    edges = [\n",
    "        ((get_el_name(source[-2]), \"Pos\"), (get_el_name(target[-2]), \"Neg\"))\n",
    "        for source, target in unique_connections\n",
    "    ]\n",
    "    nodes = {\n",
    "        n[0]\n",
    "        for n, _ in edges\n",
    "        for _, n in edges\n",
    "    }\n",
    "    edges += [\n",
    "        ((node, \"Neg\"), (node, \"Pos\"))\n",
    "        for node in nodes\n",
    "        if not node.startswith(\"EMF\")\n",
    "    ]\n",
    "    graph.add_edges_from(edges)\n",
    "    draw_circuit(graph, figsize=(20, 10), rad=edge_curvature, linewidth=linewidth, layout=layout)"
   ]
  },
  {
   "cell_type": "markdown",
   "id": "f89bbedc-46ed-4d92-aee0-56a6a6cfd029",
   "metadata": {},
   "source": [
    "# OpenMDAO\n",
    "> Based on OpenMDAO's [nonlinear circuit analysis example](https://openmdao.org/newdocs/versions/latest/examples/circuit_analysis_examples.html)."
   ]
  },
  {
   "cell_type": "code",
   "execution_count": null,
   "id": "a15340a7-5964-4e42-b79e-3062aafbcd57",
   "metadata": {},
   "outputs": [],
   "source": [
    "from importlib import import_module\n",
    "\n",
    "import networkx as nx\n",
    "import openmdao.api as om"
   ]
  },
  {
   "cell_type": "markdown",
   "id": "56a6bac8-5b3a-45f5-b662-505a04207801",
   "metadata": {},
   "source": [
    "## Load OpenMDAO component classes"
   ]
  },
  {
   "cell_type": "code",
   "execution_count": null,
   "id": "7b6fc74c-3aae-4cca-bc5f-ed9c10087752",
   "metadata": {},
   "outputs": [],
   "source": [
    "def load_class(class_path: str) -> type:\n",
    "    *module_path, class_name = class_path.split(\".\")\n",
    "    module = import_module(\".\".join(module_path))\n",
    "    return getattr(module, class_name)"
   ]
  },
  {
   "cell_type": "code",
   "execution_count": null,
   "id": "6462d1e5-6782-4a18-9a4e-a2ed2dfa9939",
   "metadata": {},
   "outputs": [],
   "source": [
    "# TODO: this should be retrieved from the SysML model\n",
    "components_to_om = {\n",
    "    \"Diode\": \"openmdao.test_suite.test_examples.test_circuit_analysis.Diode\",\n",
    "    \"Resistor\": \"openmdao.test_suite.test_examples.test_circuit_analysis.Resistor\",\n",
    "    \"Node\": \"openmdao.test_suite.test_examples.test_circuit_analysis.Node\",\n",
    "}\n",
    "\n",
    "components_to_om = {\n",
    "    name: load_class(class_path)\n",
    "    for name, class_path in components_to_om.items()\n",
    "}\n",
    "\n",
    "# FIXME: figure out a way to generalize this patterns\n",
    "circuit_components = {\n",
    "    element.name: dict(id=element._id, om=components_to_om[element.name])\n",
    "    for element in circuit_model.ownedElement[\"Circuit Builder\"].ownedElement\n",
    "    if element.name in components_to_om\n",
    "}"
   ]
  },
  {
   "cell_type": "markdown",
   "id": "a82906f9-30ca-472e-875a-ed9467d4b446",
   "metadata": {},
   "source": [
    "## Declare an OpenMDAO Group based on the SysML Model"
   ]
  },
  {
   "cell_type": "code",
   "execution_count": null,
   "id": "8e59037b-ec06-430f-bfe4-185ea15e3a6d",
   "metadata": {},
   "outputs": [],
   "source": [
    "class Circuit(om.Group):\n",
    "    \n",
    "    def initialize(self):\n",
    "        self.options.declare(\"interpretation\", types=dict)\n",
    "\n",
    "    def setup(self):\n",
    "        interpretation = self.options[\"interpretation\"]\n",
    "        self.m0_to_om_components = component_map = {}\n",
    "\n",
    "        unique_connections = get_unique_connections(interpretation, p2p.endFeature)\n",
    "        digraph = nx.DiGraph()\n",
    "        digraph.add_edges_from((source[-2:], target[-2:]) for source, target in unique_connections)\n",
    "\n",
    "        internal_edges = {}\n",
    "        for src, tgt in digraph.edges:\n",
    "            src_el, src_pin = src\n",
    "            tgt_el, tgt_pin = tgt\n",
    "            for el in (src_el, tgt_el):\n",
    "                if el not in internal_edges:\n",
    "                    internal_edges[el] = {}\n",
    "            internal_edges[src_el][\"out\"] = src_pin\n",
    "            internal_edges[tgt_el][\"in\"] = tgt_pin\n",
    "\n",
    "        full_digraph = digraph.copy()\n",
    "        full_digraph.add_edges_from(\n",
    "            ((el, pins[\"in\"]), (el, pins[\"out\"]))\n",
    "            for el, pins in internal_edges.items()\n",
    "            if not el.name.lower().startswith(\"emf\")\n",
    "            and \"in\" in pins and \"out\" in pins\n",
    "        )\n",
    "\n",
    "        emf = [el for el in internal_edges if el.name.lower().startswith(\"emf\")][0]\n",
    "        emf_out = (emf, internal_edges[emf][\"out\"])\n",
    "        emf_in = (emf, internal_edges[emf][\"in\"])\n",
    "\n",
    "        valid_items = {\n",
    "            node[0]\n",
    "            for path in nx.all_simple_paths(full_digraph, emf_out, emf_in)\n",
    "            for node in path\n",
    "        }\n",
    "        V = next(digraph.successors(emf_out))\n",
    "        Vg = next(digraph.predecessors(emf_in))\n",
    "\n",
    "        for item_type in (\"Resistor\", \"Diode\"):\n",
    "            for idx, item_sequence in enumerate(interpretation[circuit_components[item_type][\"id\"]]):\n",
    "                item = item_sequence[-1]\n",
    "                if item not in valid_items:\n",
    "                    print(f\"Skipping {item} ({idx})\")\n",
    "                    continue\n",
    "                kwargs = {}\n",
    "                if item in Vg:\n",
    "                    print(\">>> Promoting Vg based on:\", item)\n",
    "                    kwargs[\"promotes_inputs\"] = [('V_out', 'Vg')]\n",
    "                component_map[item] = self.add_subsystem(\n",
    "                    str(item).replace(\"#\", \"_\").lower(),\n",
    "                    components_to_om[item_type](\n",
    "                        # TODO: parse the resistor/diode parameters and pass them as keyword arguments them here\n",
    "                    ),\n",
    "                    **kwargs,\n",
    "                )\n",
    "\n",
    "        for node_id, comp in enumerate(nx.connected_components(digraph.to_undirected())):\n",
    "            comp_edges = [*nx.subgraph(digraph, list(comp)).edges]\n",
    "            sources = [edge[0] for edge in comp_edges if edge[0][0] in valid_items]\n",
    "            targets = [edge[1] for edge in comp_edges if edge[1][0] in valid_items]\n",
    "\n",
    "            num_sources = sum(1 for node in comp if node in sources)\n",
    "            num_targets = sum(1 for node in comp if node in targets)\n",
    "\n",
    "            node_name = f\"node_{node_id}\"\n",
    "            kwargs = {}\n",
    "            if V in sources + targets:\n",
    "                print(\">>> Promoting I_in based on:\", node_name)\n",
    "                kwargs[\"promotes_inputs\"] = [(\"I_in:0\", \"I_in\")]\n",
    "                kwargs[\"promotes_outputs\"] = [(\"V\", \"V\")]\n",
    "            node = self.add_subsystem(\n",
    "                node_name,\n",
    "                components_to_om[\"Node\"](n_in=num_sources, n_out=num_targets),\n",
    "                **kwargs,\n",
    "            )\n",
    "            indeces = {\"in\": 0, \"out\": 0}\n",
    "            elec_volt_pins = []\n",
    "            for elec_pin in comp:\n",
    "                is_source = elec_pin in sources\n",
    "                elec_el, pin = elec_pin[-2:]\n",
    "                if elec_el not in valid_items:\n",
    "                    continue\n",
    "                elec_el_name = str(elec_el).replace(\"#\", \"_\").lower()\n",
    "                if elec_el_name.startswith(\"emf\"):\n",
    "                    continue\n",
    "                elec_dir = \"out\" if is_source else \"in\"\n",
    "                node_dir = \"in\" if is_source else \"out\"\n",
    "                elec_volt_pins += [f\"{elec_el_name}.V_{elec_dir}\"]\n",
    "                self.connect(f\"{elec_el_name}.I\", f\"{node_name}.I_{node_dir}:{indeces[node_dir]}\")\n",
    "                indeces[node_dir] += 1\n",
    "            if elec_volt_pins:\n",
    "                try:\n",
    "                    self.connect(f\"{node_name}.V\", elec_volt_pins)\n",
    "                except:\n",
    "                    print(\">>>\", f\"{node_name}.V\", elec_volt_pins)\n",
    "\n",
    "        self.nonlinear_solver = om.NewtonSolver()\n",
    "        self.linear_solver = om.DirectSolver()\n",
    "\n",
    "        self.nonlinear_solver.options['iprint'] = 2\n",
    "        self.nonlinear_solver.options['maxiter'] = 10\n",
    "        self.nonlinear_solver.options['solve_subsystems'] = True\n",
    "        self.nonlinear_solver.linesearch = om.ArmijoGoldsteinLS()\n",
    "        self.nonlinear_solver.linesearch.options['maxiter'] = 10\n",
    "        self.nonlinear_solver.linesearch.options['iprint'] = 2"
   ]
  },
  {
   "cell_type": "code",
   "execution_count": null,
   "id": "fff6a373-dbf3-40e7-b525-95a4e56e6a57",
   "metadata": {},
   "outputs": [],
   "source": [
    "for idx, interpretation in enumerate(m0_interpretations):\n",
    "    try:\n",
    "        p = om.Problem()\n",
    "        model = p.model\n",
    "        circuit_name = f'circuit_{idx}'\n",
    "        model.add_subsystem(circuit_name, Circuit(interpretation=interpretation))\n",
    "        p.setup()\n",
    "        print(f\"[{idx}] successfully ran setup\")\n",
    "        try:\n",
    "            p[f'{circuit_name}.V'] = 10.\n",
    "            p[f'{circuit_name}.Vg'] = 0.\n",
    "            p[f'{circuit_name}.I_in'] = 0.1\n",
    "            print(f\"[{idx}] attempting run\")\n",
    "            p.run_model()\n",
    "            print(f\"[{idx}] kinda ran\\n\\n\\n\")\n",
    "            break\n",
    "        except KeyError as exc:\n",
    "            print(exc)\n",
    "        except Exception as exc:\n",
    "            print(exc)\n",
    "    except Exception as exc:\n",
    "        print(exc)\n",
    "        # raise\n",
    "        #print(f\"  > Failed to instantiate {idx}\")\n",
    "    break"
   ]
  },
  {
   "cell_type": "code",
   "execution_count": null,
   "id": "07b06f2f-0a75-4465-9793-44ca07aa65ab",
   "metadata": {},
   "outputs": [],
   "source": [
    "p.model.circuit_0.node_0._var_rel_names"
   ]
  },
  {
   "cell_type": "code",
   "execution_count": null,
   "id": "a7c236b3-dcc8-4c97-b51e-5762fd642ae7",
   "metadata": {},
   "outputs": [],
   "source": [
    "%debug"
   ]
  },
  {
   "cell_type": "code",
   "execution_count": null,
   "id": "397767c6-d841-45b4-a9b9-2fb4c4cd2021",
   "metadata": {},
   "outputs": [],
   "source": [
    "print(idx)\n",
    "om.view_connections(p)"
   ]
  },
  {
   "cell_type": "code",
   "execution_count": null,
   "id": "84b83e84-c4cd-482b-866b-eacd795244ba",
   "metadata": {},
   "outputs": [],
   "source": [
    "om.n2(p)"
   ]
  },
  {
   "cell_type": "markdown",
   "id": "d8b276c7-bb22-496c-8536-0ededb543d65",
   "metadata": {},
   "source": [
    "### Appendix"
   ]
  },
  {
   "cell_type": "code",
   "execution_count": null,
   "id": "2acb716a-7b34-424e-8c89-281fa5569469",
   "metadata": {},
   "outputs": [],
   "source": [
    "unique_connections = get_unique_connections(m0_interpretation, p2p.endFeature)\n",
    "digraph = nx.DiGraph()\n",
    "digraph.add_edges_from((source[-2:], target[-2:]) for source, target in unique_connections)\n",
    "digraph.edges\n",
    "\n",
    "internal_edges = {}\n",
    "for src, tgt in digraph.edges:\n",
    "    src_el, src_pin = src\n",
    "    tgt_el, tgt_pin = tgt\n",
    "    for el in (src_el, tgt_el):\n",
    "        if el not in internal_edges:\n",
    "            internal_edges[el] = {}\n",
    "    internal_edges[src_el][\"out\"] = src_pin\n",
    "    internal_edges[tgt_el][\"in\"] = tgt_pin\n",
    "\n",
    "digraph.add_edges_from(\n",
    "    ((el, pins[\"in\"]), (el, pins[\"out\"]))\n",
    "    for el, pins in internal_edges.items()\n",
    "    if not el.name.lower().startswith(\"emf\")\n",
    ")\n",
    "\n",
    "emf = [el for el in internal_edges if el.name.lower().startswith(\"emf\")][0]\n",
    "internal_edges[emf]\n",
    "digraph.neighbors((emf, internal_edges[emf][\"out\"]))\n",
    "\n",
    "limits = plt.axis(\"off\")\n",
    "plt.Figure(figsize=(20,20))\n",
    "nx.draw_circular(digraph, with_labels=False)\n",
    "plt.show()\n",
    "list(digraph.successors((emf, internal_edges[emf][\"out\"]))), list(digraph.predecessors((emf, internal_edges[emf][\"in\"])))"
   ]
  }
 ],
 "metadata": {
  "kernelspec": {
   "display_name": "Python 3 (ipykernel)",
   "language": "python",
   "name": "python3"
  },
  "language_info": {
   "codemirror_mode": {
    "name": "ipython",
    "version": 3
   },
   "file_extension": ".py",
   "mimetype": "text/x-python",
   "name": "python",
   "nbconvert_exporter": "python",
   "pygments_lexer": "ipython3",
   "version": "3.9.6"
  }
 },
 "nbformat": 4,
 "nbformat_minor": 5
}
