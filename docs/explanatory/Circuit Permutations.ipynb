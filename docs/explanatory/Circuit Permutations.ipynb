{
 "cells": [
  {
   "cell_type": "markdown",
   "id": "1577df35-0a5d-4ff0-8d54-bb0aff415b5e",
   "metadata": {},
   "source": [
    "# Permutations of a Simple Circuit\n",
    "\n",
    "This notebook walks through how to utilize the core semantics of SysML v2 to generate alternative circuits as inputs to an OpenMDAO solution of these circuits. \n",
    "\n",
    "## Background\n",
    "\n",
    "The M1 user model in SysML v2 is meant to be a set of constraints and rules under which legal instances can be created. Those instances should be taken as alternative produced systems and they can be analyzed in that way."
   ]
  },
  {
   "cell_type": "markdown",
   "id": "084ae194-f231-4775-8d8d-20bf0a6c47b6",
   "metadata": {},
   "source": [
    "## Libraries Load-Up\n",
    "\n",
    "Load up PyMBE and its various libraries."
   ]
  },
  {
   "cell_type": "code",
   "execution_count": null,
   "id": "74c6fcfb-bcc4-4e07-b4bd-e9bd2a3f17f1",
   "metadata": {},
   "outputs": [],
   "source": [
    "from pathlib import Path\n",
    "import networkx as nx\n",
    "import matplotlib as plt\n",
    "\n",
    "import pymbe.api as pm\n",
    "\n",
    "from pymbe.graph.lpg import SysML2LabeledPropertyGraph\n",
    "from pymbe.interpretation.interpretation import repack_instance_dictionaries\n",
    "from pymbe.interpretation.interp_playbooks import (\n",
    "    build_expression_sequence_templates,\n",
    "    build_sequence_templates,\n",
    "    random_generator_playbook,\n",
    "    random_generator_phase_1_multiplicities,\n",
    ")\n",
    "from pymbe.interpretation.results import *\n",
    "from pymbe.label import get_label_for_id\n",
    "from pymbe.query.metamodel_navigator import feature_multiplicity\n",
    "from pymbe.query.query import (\n",
    "    roll_up_multiplicity,\n",
    "    roll_up_upper_multiplicity,\n",
    "    roll_up_multiplicity_for_type,\n",
    "    get_types_for_feature,\n",
    "    get_features_typed_by_type,\n",
    ")\n",
    "from pymbe.local.stablization import build_stable_id_lookups"
   ]
  },
  {
   "cell_type": "markdown",
   "id": "d0047e8f-b755-46e6-b1b1-79fbe1036a65",
   "metadata": {},
   "source": [
    "## Load Up Model\n",
    "\n",
    "Read the model from the local JSON file."
   ]
  },
  {
   "cell_type": "code",
   "execution_count": null,
   "id": "5a8bde6a-7e81-45d6-88ae-9559776b9e33",
   "metadata": {},
   "outputs": [],
   "source": [
    "circuit_file = Path(pm.__file__).parent / \"../../docs/tutorials/Circuit Builder.json\"\n",
    "\n",
    "circuit_model = pm.Model.load_from_file(circuit_file)\n",
    "circuit_lpg = SysML2LabeledPropertyGraph(model=circuit_model)\n",
    "[id_to_circuit_name_lookup, circuit_name_to_id_lookup] = build_stable_id_lookups(circuit_lpg)\n",
    "\n",
    "circuit_lpg.model.MAX_MULTIPLICITY = 10"
   ]
  },
  {
   "cell_type": "markdown",
   "id": "12cf48ba-47b6-44c7-9eb8-3a8df5ff9bf2",
   "metadata": {},
   "source": [
    "## Explore Contents of Model with M1 in Memory\n",
    "\n",
    "Use the M1 memory objects to see what is in the current model, starting with the main packages."
   ]
  },
  {
   "cell_type": "code",
   "execution_count": null,
   "id": "d4f0ccf2-fae9-42cb-91fe-517c6424acca",
   "metadata": {},
   "outputs": [],
   "source": [
    "circuit_model.packages"
   ]
  },
  {
   "cell_type": "code",
   "execution_count": null,
   "id": "2ec2fc5c-6e1a-4aa8-bd93-295d93e93def",
   "metadata": {},
   "outputs": [],
   "source": [
    "circuit_model.ownedElement[\"Circuit Builder\"].ownedElement"
   ]
  },
  {
   "cell_type": "code",
   "execution_count": null,
   "id": "7abd99cf-4cfa-4b1a-bfc1-d1b1105b5ff9",
   "metadata": {},
   "outputs": [],
   "source": [
    "circuit_def = circuit_model.ownedElement[\"Circuit Builder\"].ownedElement[\"Circuit\"]"
   ]
  },
  {
   "cell_type": "markdown",
   "id": "283c91a3-e8fe-4ac0-bab5-306a288f280b",
   "metadata": {},
   "source": [
    "### Circuit and its Features\n",
    "\n",
    "Here is the circuit and its features, both parts and used connections."
   ]
  },
  {
   "cell_type": "code",
   "execution_count": null,
   "id": "731dea86-2411-4fb0-b223-88bef2cfbd93",
   "metadata": {},
   "outputs": [],
   "source": [
    "circuit_def.relationships"
   ]
  },
  {
   "cell_type": "code",
   "execution_count": null,
   "id": "28557de8-4ec2-42b6-a829-654fdc6b876e",
   "metadata": {},
   "outputs": [],
   "source": [
    "circuit_def.ownedMember"
   ]
  },
  {
   "cell_type": "code",
   "execution_count": null,
   "id": "5243309a-a48b-4b27-b387-d4196ab09006",
   "metadata": {},
   "outputs": [],
   "source": [
    "circuit_def.ownedMember[7].name"
   ]
  },
  {
   "cell_type": "code",
   "execution_count": null,
   "id": "de48c4c1-0e9a-4f82-a6c8-713d8fdf03d5",
   "metadata": {},
   "outputs": [],
   "source": [
    "circuit_def.ownedMember[7].multiplicity.lowerBound"
   ]
  },
  {
   "cell_type": "code",
   "execution_count": null,
   "id": "9a9982cf-6460-4b72-836e-ffd7cb23ea6c",
   "metadata": {},
   "outputs": [],
   "source": [
    "circuit_def.ownedMember[7].multiplicity.upperBound"
   ]
  },
  {
   "cell_type": "markdown",
   "id": "94ea2e9f-f4af-4e97-9e5e-713f3833c12a",
   "metadata": {},
   "source": [
    "## Generate M0 instances from the M1 model\n",
    "\n",
    "Use the M1 model to start creating a series of instances to represent the circuits that should be analyzed."
   ]
  },
  {
   "cell_type": "code",
   "execution_count": null,
   "id": "70a09d8f-af2a-4ecf-af78-78a7439b885f",
   "metadata": {},
   "outputs": [],
   "source": [
    "m0_interpretations = [\n",
    "    random_generator_playbook(\n",
    "        lpg=circuit_lpg,\n",
    "        name_hints={},\n",
    "        filtered_feat_packages=[circuit_lpg.model.ownedElement[\"Circuit Builder\"]],\n",
    "        phase_limit=10,\n",
    "    ) for run in range(0, 10)\n",
    "]"
   ]
  },
  {
   "cell_type": "code",
   "execution_count": null,
   "id": "51c29ad1-b744-4026-9fee-416e1c2754b8",
   "metadata": {
    "tags": []
   },
   "outputs": [],
   "source": [
    "pprint_interpretation(m0_interpretations[5], circuit_model, False)"
   ]
  },
  {
   "cell_type": "markdown",
   "id": "e0d3308f-053c-4c28-8d09-3c681b48c941",
   "metadata": {},
   "source": [
    "## Filter M0 Instances for Reasonable Circuits\n",
    "\n",
    "Until we get more sophisticated and can interpret constraints, the initial approach is to filter out solutions with unanalyzable layouts or trim the layouts to something more tractable."
   ]
  },
  {
   "cell_type": "markdown",
   "id": "fa01e6bf-8afc-4182-b5b4-dca690f03ded",
   "metadata": {},
   "source": [
    "### Connector End Checks\n",
    "\n",
    "Look at the ends of the three main kinds of connectors."
   ]
  },
  {
   "cell_type": "code",
   "execution_count": null,
   "id": "a310351a-4830-4598-aff9-8177170deec1",
   "metadata": {},
   "outputs": [],
   "source": [
    "n2n = circuit_def.ownedMember[\"Node to Node\"]"
   ]
  },
  {
   "cell_type": "code",
   "execution_count": null,
   "id": "70a0f874-05ea-4643-9162-ea836cc0d31d",
   "metadata": {},
   "outputs": [],
   "source": [
    "p2p = circuit_def.ownedMember[\"Part to Part\"]"
   ]
  },
  {
   "cell_type": "code",
   "execution_count": null,
   "id": "6a3e9245-8e48-4414-bccc-670dac12aba4",
   "metadata": {},
   "outputs": [],
   "source": [
    "p2n = circuit_def.ownedMember[\"Part to Node\"]"
   ]
  },
  {
   "cell_type": "code",
   "execution_count": null,
   "id": "96c413fb-b3ca-4bd6-9d0d-b129c60141f3",
   "metadata": {},
   "outputs": [],
   "source": [
    "circuit_def.ownedMember[\"Part to Part\"].endFeature[0]._id"
   ]
  },
  {
   "cell_type": "code",
   "execution_count": null,
   "id": "0fc24db1-db38-4c1d-b215-c031535df452",
   "metadata": {},
   "outputs": [],
   "source": [
    "m0_interpretations[0][p2n.endFeature[0]._id]"
   ]
  },
  {
   "cell_type": "code",
   "execution_count": null,
   "id": "39caaab1-6d91-4a6b-a166-e70e22f7e075",
   "metadata": {},
   "outputs": [],
   "source": [
    "m0_interpretations[0][p2n.endFeature[1]._id]"
   ]
  },
  {
   "cell_type": "code",
   "execution_count": null,
   "id": "b24b8b54-4d59-4a27-bc29-cbfefd5d01f0",
   "metadata": {},
   "outputs": [],
   "source": [
    "m0_interpretations[0][p2p.endFeature[0]._id]"
   ]
  },
  {
   "cell_type": "code",
   "execution_count": null,
   "id": "171cb461-cfe3-42da-aea0-423c9f336321",
   "metadata": {},
   "outputs": [],
   "source": [
    "m0_interpretations[0][p2p.endFeature[1]._id]"
   ]
  },
  {
   "cell_type": "code",
   "execution_count": null,
   "id": "c508c95d-60a1-4852-92f5-9417509e4a7f",
   "metadata": {},
   "outputs": [],
   "source": [
    "m0_interpretations[0][n2n.endFeature[0]._id]"
   ]
  },
  {
   "cell_type": "code",
   "execution_count": null,
   "id": "d60b2b37-bef6-4071-b4ba-19312d6488b7",
   "metadata": {},
   "outputs": [],
   "source": [
    "m0_interpretations[0][n2n.endFeature[1]._id]"
   ]
  },
  {
   "cell_type": "markdown",
   "id": "f89bbedc-46ed-4d92-aee0-56a6a6cfd029",
   "metadata": {},
   "source": [
    "# OpenMDAO\n",
    "> Based on OpenMDAO's [nonlinear circuit analysis example](https://openmdao.org/newdocs/versions/latest/examples/circuit_analysis_examples.html)."
   ]
  },
  {
   "cell_type": "code",
   "execution_count": null,
   "id": "8c93bfc7-6870-4bdb-aa71-b4a6934bdb20",
   "metadata": {},
   "outputs": [],
   "source": [
    "an_interpretation = m0_interpretations[0]\n",
    "pprint_interpretation(an_interpretation, circuit_model, False)"
   ]
  },
  {
   "cell_type": "markdown",
   "id": "7051c655-ab76-4a22-a57c-bda5d4cd28ce",
   "metadata": {},
   "source": [
    "# Example OpenMDAO Circuit"
   ]
  },
  {
   "cell_type": "code",
   "execution_count": null,
   "id": "7ecb3de5-e6cb-4c9a-a7e9-a35375f27d97",
   "metadata": {},
   "outputs": [],
   "source": [
    "import openmdao.api as om\n",
    "from openmdao.test_suite.test_examples.test_circuit_analysis import Diode, Node, Resistor\n",
    "\n",
    "\n",
    "class Circuit(om.Group):\n",
    "\n",
    "    def setup(self):\n",
    "        self.add_subsystem('n1', Node(n_in=1, n_out=2), promotes_inputs=[('I_in:0', 'I_in')])\n",
    "        self.add_subsystem('n2', Node())  # leaving defaults\n",
    "\n",
    "        self.add_subsystem('R1', Resistor(R=100.), promotes_inputs=[('V_out', 'Vg')])\n",
    "        self.add_subsystem('R2', Resistor(R=10000.))\n",
    "        self.add_subsystem('D1', Diode(), promotes_inputs=[('V_out', 'Vg')])\n",
    "\n",
    "        self.connect('n1.V', ['R1.V_in', 'R2.V_in'])\n",
    "        self.connect('R1.I', 'n1.I_out:0')\n",
    "        self.connect('R2.I', 'n1.I_out:1')\n",
    "\n",
    "        self.connect('n2.V', ['R2.V_out', 'D1.V_in'])\n",
    "        self.connect('R2.I', 'n2.I_in:0')\n",
    "        self.connect('D1.I', 'n2.I_out:0')\n",
    "\n",
    "        self.nonlinear_solver = om.NewtonSolver()\n",
    "        self.linear_solver = om.DirectSolver()\n",
    "\n",
    "        self.nonlinear_solver.options['iprint'] = 2\n",
    "        self.nonlinear_solver.options['maxiter'] = 10\n",
    "        self.nonlinear_solver.options['solve_subsystems'] = True\n",
    "        self.nonlinear_solver.linesearch = om.ArmijoGoldsteinLS()\n",
    "        self.nonlinear_solver.linesearch.options['maxiter'] = 10\n",
    "        self.nonlinear_solver.linesearch.options['iprint'] = 2"
   ]
  },
  {
   "cell_type": "markdown",
   "id": "4645488a-07e9-4f14-b542-314b1a230a33",
   "metadata": {},
   "source": [
    "# OpenMDAO Interpretation"
   ]
  },
  {
   "cell_type": "code",
   "execution_count": null,
   "id": "4cb9642e-09b3-4143-8dbc-738ac89bda57",
   "metadata": {},
   "outputs": [],
   "source": [
    "m0_interpretation = m0_interpretations[0]"
   ]
  },
  {
   "cell_type": "code",
   "execution_count": null,
   "id": "60478ccd-be22-4c4b-8361-2fae33b9fb66",
   "metadata": {},
   "outputs": [],
   "source": [
    "node_in_connections = sum(\n",
    "    m0_interpretation[p2n.endFeature[1]._id] +\n",
    "    m0_interpretation[n2n.endFeature[1]._id],\n",
    "    []\n",
    ")\n",
    "\n",
    "node_out_connections = sum(\n",
    "    m0_interpretation[n2n.endFeature[0]._id],\n",
    "    []\n",
    ")\n",
    "connections_in, connections_out = {}, {}\n",
    "for node in m0_interpretation[circuit_components[\"Node\"][\"id\"]]:\n",
    "    connections_in[node[-1]] = [\n",
    "        conn\n",
    "        for conn in node_in_connections\n",
    "        if conn[-2] == node[-1]\n",
    "    ]\n",
    "    connections_out[node[-1]] = [\n",
    "        conn\n",
    "        for conn in node_out_connections\n",
    "        if conn[-2] == node[-1]\n",
    "    ]\n",
    "connections_in, connections_out"
   ]
  },
  {
   "cell_type": "code",
   "execution_count": null,
   "id": "7b6fc74c-3aae-4cca-bc5f-ed9c10087752",
   "metadata": {},
   "outputs": [],
   "source": [
    "from importlib import import_module\n",
    "\n",
    "\n",
    "def load_class(class_path: str) -> type:\n",
    "    *module_path, class_name = class_path.split(\".\")\n",
    "    module = import_module(\".\".join(module_path))\n",
    "    return getattr(module, class_name)"
   ]
  },
  {
   "cell_type": "code",
   "execution_count": null,
   "id": "18e5baf2-0f10-4de7-9bc2-083684779f11",
   "metadata": {},
   "outputs": [],
   "source": [
    "import openmdao.api as om\n",
    "\n",
    "\n",
    "# TODO: this should be retrieved from the SysML model\n",
    "components_to_om = {\n",
    "    \"Diode\": \"openmdao.test_suite.test_examples.test_circuit_analysis.Diode\",\n",
    "    \"Resistor\": \"openmdao.test_suite.test_examples.test_circuit_analysis.Resistor\",\n",
    "    \"Node\": \"openmdao.test_suite.test_examples.test_circuit_analysis.Node\",\n",
    "}\n",
    "\n",
    "components_to_om = {\n",
    "    name: load_class(class_path)\n",
    "    for name, class_path in components_to_om.items()\n",
    "}\n",
    "\n",
    "# FIXME: figure out a way to generalize this patterns\n",
    "circuit_components = {\n",
    "    element.name: dict(id=element._id, om=components_to_om[element.name])\n",
    "    for element in circuit_model.ownedElement[\"Circuit Builder\"].ownedElement\n",
    "    if element.name in components_to_om\n",
    "}\n",
    "\n",
    "m0_to_om_components = {}\n",
    "\n",
    "class Circuit(om.Group):\n",
    "\n",
    "    def setup(self):\n",
    "        for idx, node_seq in enumerate(m0_interpretation[circuit_components[\"Node\"][\"id\"]]):\n",
    "            node = node_seq[-1]\n",
    "            m0_to_om_components[node] = self.add_subsystem(\n",
    "                str(node).replace(\"#\", \"_\").lower(),\n",
    "                components_to_om[\"Node\"](n_in=len(connections_in[node]), n_out=len(connections_out[node])),\n",
    "            )\n",
    "\n",
    "        for idx, resistor_seq in enumerate(m0_interpretation[circuit_components[\"Resistor\"][\"id\"]]):\n",
    "            resistor = resistor_seq[-1]\n",
    "            m0_to_om_components[resistor] = self.add_subsystem(\n",
    "                str(resistor).replace(\"#\", \"_\").lower(),\n",
    "                components_to_om[\"Resistor\"](R=1),\n",
    "            )\n",
    "\n",
    "        for idx, diode_seq in enumerate(m0_interpretation[circuit_components[\"Diode\"][\"id\"]]):\n",
    "            diode = diode_seq[-1]\n",
    "            m0_to_om_components[diode] = self.add_subsystem(\n",
    "                str(diode).replace(\"#\", \"_\").lower(),\n",
    "                components_to_om[\"Diode\"](),\n",
    "            )\n",
    "            \n",
    "        self.add_subsystem('n1', Node(n_in=1, n_out=2), promotes_inputs=[('I_in:0', 'I_in')])\n",
    "        self.add_subsystem('n2', Node())  # leaving defaults\n",
    "\n",
    "        self.add_subsystem('R1', Resistor(R=100.), promotes_inputs=[('V_out', 'Vg')])\n",
    "        self.add_subsystem('R2', Resistor(R=10000.))\n",
    "        self.add_subsystem('D1', Diode(), promotes_inputs=[('V_out', 'Vg')])\n",
    "\n",
    "        self.connect('n1.V', ['R1.V_in', 'R2.V_in'])\n",
    "        self.connect('R1.I', 'n1.I_out:0')\n",
    "        self.connect('R2.I', 'n1.I_out:1')\n",
    "\n",
    "        self.connect('n2.V', ['R2.V_out', 'D1.V_in'])\n",
    "        self.connect('R2.I', 'n2.I_in:0')\n",
    "        self.connect('D1.I', 'n2.I_out:0')\n",
    "\n",
    "        self.nonlinear_solver = om.NewtonSolver()\n",
    "        self.linear_solver = om.DirectSolver()\n",
    "\n",
    "        self.nonlinear_solver.options['iprint'] = 2\n",
    "        self.nonlinear_solver.options['maxiter'] = 10\n",
    "        self.nonlinear_solver.options['solve_subsystems'] = True\n",
    "        self.nonlinear_solver.linesearch = om.ArmijoGoldsteinLS()\n",
    "        self.nonlinear_solver.linesearch.options['maxiter'] = 10\n",
    "        self.nonlinear_solver.linesearch.options['iprint'] = 2"
   ]
  },
  {
   "cell_type": "code",
   "execution_count": null,
   "id": "95fdad87-0813-41fa-80e1-40ab83ee3d75",
   "metadata": {},
   "outputs": [],
   "source": [
    "circuit_components"
   ]
  },
  {
   "cell_type": "code",
   "execution_count": null,
   "id": "188b623d-53cb-4461-91ef-2446a4de87b0",
   "metadata": {},
   "outputs": [],
   "source": [
    "circuit = Circuit()\n",
    "circuit.setup()\n",
    "m0_to_om_components"
   ]
  },
  {
   "cell_type": "code",
   "execution_count": null,
   "id": "4fd6d46c-531d-46b9-b2fb-ca4b7a8f7606",
   "metadata": {},
   "outputs": [],
   "source": [
    "circuit\n",
    "a_resistor = m0_to_om_components[m0_interpretation[circuit_components[\"Resistor\"][\"id\"]][2][-1]]\n",
    "circuit"
   ]
  },
  {
   "cell_type": "code",
   "execution_count": null,
   "id": "25399825-ccd0-4da1-abc2-98c252a2f48a",
   "metadata": {},
   "outputs": [],
   "source": [
    "p = om.Problem()\n",
    "model = p.model\n",
    "\n",
    "model.add_subsystem('ground', om.IndepVarComp('V', 0., units='V'))\n",
    "model.add_subsystem('source', om.IndepVarComp('I', 0.1, units='A'))\n",
    "model.add_subsystem('circuit', Circuit())\n",
    "\n",
    "model.connect('source.I', 'circuit.I_in')\n",
    "model.connect('ground.V', 'circuit.Vg')\n",
    "\n",
    "p.setup()\n",
    "\n",
    "# set some initial guesses\n",
    "p['circuit.n1.V'] = 12.\n",
    "p['circuit.n2.V'] = 1.\n",
    "\n",
    "p.run_model()\n",
    "\n",
    "print(p['circuit.n1.V'])\n",
    "print(p['circuit.n2.V'])\n",
    "print(p['circuit.R1.I'])\n",
    "print(p['circuit.R2.I'])\n",
    "print(p['circuit.D1.I'])\n",
    "\n",
    "# sanity check: should sum to .1 Amps\n",
    "assert p['circuit.R1.I'] + p['circuit.D1.I'] == 0.1"
   ]
  },
  {
   "cell_type": "code",
   "execution_count": null,
   "id": "19644686-19ea-47e3-b7c5-1157cca71cbc",
   "metadata": {},
   "outputs": [],
   "source": [
    "elements = circuit_model.elements\n",
    "sequences = m0_interpretations[20]\n",
    "\n",
    "id_ = \"99db05a8-32cd-4676-a936-0bc13bb6ec29\"\n",
    "id_ = \"2ac62b51-dabf-4516-b56e-84e77ef3a67a\"\n",
    "id_ = \"06fb7cf9-09e0-43c0-84a8-a5ac334b0b51\"\n",
    "id_ = \"8dbe719d-b4e1-47b6-a40d-4c5fcfd30eba\"\n",
    "id_ = \"35cb79bd-c6fa-400b-a37a-3ab28793d996\"\n",
    "\n",
    "elements[id_].owner.ownedElement, sequences[id_], sequences[\"11e7ca81-539a-414e-b59b-96c5c34d7aa4\"]"
   ]
  },
  {
   "cell_type": "code",
   "execution_count": null,
   "id": "38f265ac-f7cd-4c7e-acb8-190c306dfd13",
   "metadata": {},
   "outputs": [],
   "source": [
    "m0_interpretations[0]"
   ]
  }
 ],
 "metadata": {
  "kernelspec": {
   "display_name": "Python 3 (ipykernel)",
   "language": "python",
   "name": "python3"
  },
  "language_info": {
   "codemirror_mode": {
    "name": "ipython",
    "version": 3
   },
   "file_extension": ".py",
   "mimetype": "text/x-python",
   "name": "python",
   "nbconvert_exporter": "python",
   "pygments_lexer": "ipython3",
   "version": "3.9.6"
  }
 },
 "nbformat": 4,
 "nbformat_minor": 5
}
