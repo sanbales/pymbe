{
 "cells": [
  {
   "cell_type": "markdown",
   "id": "51e1ce1b-c8c6-4d0e-ab0d-a362fab8dd12",
   "metadata": {},
   "source": [
    "# Permutations of a Simple Circuit\n",
    "\n",
    "This notebook walks through how to utilize the core semantics of SysML v2 to generate alternative circuits as inputs to an OpenMDAO solution of these circuits.\n",
    "\n",
    "If you want to play with a widget that does this, just run the cell below, if you want to understand the rest of the process, follow the rest of the notebook."
   ]
  },
  {
   "cell_type": "code",
   "execution_count": null,
   "id": "43fb7bce-ae74-4c86-8c34-a4794642d980",
   "metadata": {},
   "outputs": [],
   "source": [
    "import sys\n",
    "from pathlib import Path\n",
    "\n",
    "import pymbe.api as pm\n",
    "\n",
    "pymbe_tests = (Path(pm.__file__).parent / \"../../tests\").resolve().absolute()\n",
    "assert pymbe_tests.is_dir(), \"Cannot find pymbe tests folder!\"\n",
    "\n",
    "if str(pymbe_tests) not in sys.path:\n",
    "    sys.path.append(str(pymbe_tests))\n",
    "    \n",
    "from interpretation.circuit_example import CircuitComponent, CircuitUI\n",
    "\n",
    "ui = CircuitUI()\n",
    "ui"
   ]
  },
  {
   "cell_type": "markdown",
   "id": "54870ec5-2ba3-48af-bbdc-b6dd1eb35161",
   "metadata": {},
   "source": [
    "## Background\n",
    "\n",
    "The M1 user model in SysML v2 is meant to be a set of constraints and rules under which legal instances can be created. Those instances should be taken as alternative produced systems and they can be analyzed in that way."
   ]
  },
  {
   "cell_type": "markdown",
   "id": "d0047e8f-b755-46e6-b1b1-79fbe1036a65",
   "metadata": {},
   "source": [
    "## Load Up Model\n",
    "\n",
    "Read the model from the local JSON file."
   ]
  },
  {
   "cell_type": "code",
   "execution_count": null,
   "id": "5a8bde6a-7e81-45d6-88ae-9559776b9e33",
   "metadata": {},
   "outputs": [],
   "source": [
    "circuit_file = pymbe_tests / \"fixtures/Circuit Builder.json\"\n",
    "\n",
    "circuit_model = pm.Model.load_from_file(circuit_file)\n",
    "circuit_model.max_multiplicity = 100"
   ]
  },
  {
   "cell_type": "markdown",
   "id": "12cf48ba-47b6-44c7-9eb8-3a8df5ff9bf2",
   "metadata": {},
   "source": [
    "## Explore Contents of Model with M1 in Memory\n",
    "\n",
    "Use the M1 memory objects to see what is in the current model, starting with the main packages."
   ]
  },
  {
   "cell_type": "code",
   "execution_count": null,
   "id": "d4f0ccf2-fae9-42cb-91fe-517c6424acca",
   "metadata": {},
   "outputs": [],
   "source": [
    "circuit_model.packages"
   ]
  },
  {
   "cell_type": "code",
   "execution_count": null,
   "id": "2ec2fc5c-6e1a-4aa8-bd93-295d93e93def",
   "metadata": {},
   "outputs": [],
   "source": [
    "circuit_model.ownedElement[\"Circuit Builder\"].ownedElement"
   ]
  },
  {
   "cell_type": "code",
   "execution_count": null,
   "id": "7abd99cf-4cfa-4b1a-bfc1-d1b1105b5ff9",
   "metadata": {},
   "outputs": [],
   "source": [
    "circuit_def = circuit_model.ownedElement[\"Circuit Builder\"].ownedElement[\"Circuit\"]"
   ]
  },
  {
   "cell_type": "markdown",
   "id": "283c91a3-e8fe-4ac0-bab5-306a288f280b",
   "metadata": {},
   "source": [
    "### Circuit and its Features\n",
    "\n",
    "Here is the circuit and its features, both parts and used connections."
   ]
  },
  {
   "cell_type": "code",
   "execution_count": null,
   "id": "731dea86-2411-4fb0-b223-88bef2cfbd93",
   "metadata": {},
   "outputs": [],
   "source": [
    "circuit_def.relationships"
   ]
  },
  {
   "cell_type": "code",
   "execution_count": null,
   "id": "28557de8-4ec2-42b6-a829-654fdc6b876e",
   "metadata": {},
   "outputs": [],
   "source": [
    "circuit_def.ownedMember"
   ]
  },
  {
   "cell_type": "markdown",
   "id": "fae3a150-6770-4567-b617-c8284b36600d",
   "metadata": {},
   "source": [
    "## Update multiplicities\n",
    "for `Resistors`, `Diodes`, and `Connections`"
   ]
  },
  {
   "cell_type": "markdown",
   "id": "94ea2e9f-f4af-4e97-9e5e-713f3833c12a",
   "metadata": {},
   "source": [
    "## Generate M0 instances from the M1 model\n",
    "\n",
    "Use the M1 model to start creating a series of instances to represent the circuits that should be analyzed."
   ]
  },
  {
   "cell_type": "code",
   "execution_count": null,
   "id": "5d107dc0-f186-476d-800e-723e4a1ed6e6",
   "metadata": {},
   "outputs": [],
   "source": [
    "NUM_INTERPRETATIONS = 10\n",
    "\n",
    "m0_interpretations = [\n",
    "    pm.random_generator_playbook(\n",
    "        m1=circuit_model,\n",
    "        filtered_feat_packages=[circuit_model.ownedElement[\"Circuit Builder\"]],\n",
    "    ) for _ in range(NUM_INTERPRETATIONS)\n",
    "]"
   ]
  },
  {
   "cell_type": "markdown",
   "id": "1999bb54-3183-4f0f-8ee0-5e2bd172e602",
   "metadata": {},
   "source": [
    "### Sort the interpretations by number of connections\n",
    "Sorted from `most` to `least`, and pick the first one."
   ]
  },
  {
   "cell_type": "code",
   "execution_count": null,
   "id": "f19a60d2-dff3-4f4a-b226-a880344703a1",
   "metadata": {},
   "outputs": [],
   "source": [
    "circuit_model.elements[\"9cf7b7c6-194a-4882-8480-05a807d1391f\"]"
   ]
  },
  {
   "cell_type": "code",
   "execution_count": null,
   "id": "02c01d8f-a321-421b-a6c1-76c2c171926f",
   "metadata": {},
   "outputs": [],
   "source": [
    "cf = circuit_model.ownedElement[\"Circuit Builder\"].ownedElement[\"Circuit\"]\n",
    "#cf.relationships[\"reverseFeatureTyping\"][0].owner\n",
    "cf.throughFeatureMembership"
   ]
  },
  {
   "cell_type": "code",
   "execution_count": null,
   "id": "ee0363db-54ad-46b0-b633-191f1dac0e08",
   "metadata": {},
   "outputs": [],
   "source": [
    "# sort the interpretations from most connections to fewer connections\n",
    "for member in circuit_def.ownedMember:\n",
    "    if member._metatype == \"ConnectionUsage\":\n",
    "        connection = member\n",
    "        break\n",
    "\n",
    "m0_interpretations = [*sorted(m0_interpretations, key=lambda x: len(x[connection._id]), reverse=True)]\n",
    "m0_interpretation = m0_interpretations[0]"
   ]
  },
  {
   "cell_type": "markdown",
   "id": "e0d3308f-053c-4c28-8d09-3c681b48c941",
   "metadata": {},
   "source": [
    "## Filter M0 Instances for Reasonable Circuits\n",
    "\n",
    "Until we get more sophisticated and can interpret constraints, the initial approach is to filter out solutions with unanalyzable layouts or trim the layouts to something more tractable."
   ]
  },
  {
   "cell_type": "markdown",
   "id": "fa01e6bf-8afc-4182-b5b4-dca690f03ded",
   "metadata": {},
   "source": [
    "### Connector End Checks\n",
    "\n",
    "Look at the ends of the three main kinds of connectors."
   ]
  },
  {
   "cell_type": "code",
   "execution_count": null,
   "id": "70a0f874-05ea-4643-9162-ea836cc0d31d",
   "metadata": {},
   "outputs": [],
   "source": [
    "p2p = circuit_def.ownedMember[\"Part to Part\"]\n",
    "p2p.endFeature[0]._id"
   ]
  },
  {
   "cell_type": "code",
   "execution_count": null,
   "id": "b24b8b54-4d59-4a27-bc29-cbfefd5d01f0",
   "metadata": {},
   "outputs": [],
   "source": [
    "source_feat, target_feat = p2p.endFeature\n",
    "for source, target in zip(m0_interpretation[source_feat._id], m0_interpretation[target_feat._id]):\n",
    "    print(source, \"-->\", target)"
   ]
  },
  {
   "cell_type": "markdown",
   "id": "f89bbedc-46ed-4d92-aee0-56a6a6cfd029",
   "metadata": {},
   "source": [
    "# OpenMDAO\n",
    "> Based on OpenMDAO's [nonlinear circuit analysis example](https://openmdao.org/newdocs/versions/latest/examples/circuit_analysis_examples.html)."
   ]
  },
  {
   "cell_type": "code",
   "execution_count": null,
   "id": "a15340a7-5964-4e42-b79e-3062aafbcd57",
   "metadata": {},
   "outputs": [],
   "source": [
    "from importlib import import_module\n",
    "\n",
    "import networkx as nx\n",
    "import openmdao.api as om"
   ]
  },
  {
   "cell_type": "code",
   "execution_count": null,
   "id": "397767c6-d841-45b4-a9b9-2fb4c4cd2021",
   "metadata": {},
   "outputs": [],
   "source": [
    "problem = ui.parametric_executor.problem\n",
    "\n",
    "if problem:\n",
    "    om.view_connections(problem)\n",
    "else:\n",
    "    print(\"Click the '+' button in the dashboard until it generates a circuit\")"
   ]
  },
  {
   "cell_type": "code",
   "execution_count": null,
   "id": "84b83e84-c4cd-482b-866b-eacd795244ba",
   "metadata": {},
   "outputs": [],
   "source": [
    "if problem:\n",
    "    om.n2(problem)\n",
    "else:\n",
    "    print(\"Click the '+' button in the dashboard until it generates a circuit\")"
   ]
  }
 ],
 "metadata": {
  "kernelspec": {
   "display_name": "Python 3 (ipykernel)",
   "language": "python",
   "name": "python3"
  },
  "language_info": {
   "codemirror_mode": {
    "name": "ipython",
    "version": 3
   },
   "file_extension": ".py",
   "mimetype": "text/x-python",
   "name": "python",
   "nbconvert_exporter": "python",
   "pygments_lexer": "ipython3",
   "version": "3.9.6"
  }
 },
 "nbformat": 4,
 "nbformat_minor": 5
}
