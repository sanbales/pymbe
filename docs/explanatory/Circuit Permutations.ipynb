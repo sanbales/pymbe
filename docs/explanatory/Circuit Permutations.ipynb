{
 "cells": [
  {
   "cell_type": "markdown",
   "id": "1577df35-0a5d-4ff0-8d54-bb0aff415b5e",
   "metadata": {},
   "source": [
    "# Permutations of a Simple Circuit\n",
    "\n",
    "This notebook walks through how to utilize the core semantics of SysML v2 to generate alternative circuits as inputs to an OpenMDAO solution of these circuits. \n",
    "\n",
    "## Background\n",
    "\n",
    "The M1 user model in SysML v2 is meant to be a set of constraints and rules under which legal instances can be created. Those instances should be taken as alternative produced systems and they can be analyzed in that way."
   ]
  },
  {
   "cell_type": "markdown",
   "id": "084ae194-f231-4775-8d8d-20bf0a6c47b6",
   "metadata": {},
   "source": [
    "## Libraries Load-Up\n",
    "\n",
    "Load up PyMBE and its various libraries."
   ]
  },
  {
   "cell_type": "code",
   "execution_count": 1,
   "id": "0323aee7-19ef-4cba-959c-2dcd41603a8e",
   "metadata": {},
   "outputs": [],
   "source": [
    "NUM_INTERPRETATIONS = 50\n",
    "NUM_RESISTORS = (2, 4)\n",
    "NUM_DIODES = (0, 1)\n",
    "NUM_CONNECTORS = (5, 10)\n",
    "\n",
    "RUN_BASELINE = True"
   ]
  },
  {
   "cell_type": "code",
   "execution_count": 2,
   "id": "74c6fcfb-bcc4-4e07-b4bd-e9bd2a3f17f1",
   "metadata": {},
   "outputs": [],
   "source": [
    "from pathlib import Path\n",
    "import networkx as nx\n",
    "import matplotlib as plt\n",
    "\n",
    "import pymbe.api as pm\n",
    "\n",
    "from pymbe.graph.lpg import SysML2LabeledPropertyGraph\n",
    "from pymbe.interpretation.interpretation import repack_instance_dictionaries\n",
    "from pymbe.interpretation.interp_playbooks import (\n",
    "    build_expression_sequence_templates,\n",
    "    build_sequence_templates,\n",
    "    random_generator_playbook,\n",
    "    random_generator_phase_1_multiplicities,\n",
    ")\n",
    "from pymbe.interpretation.results import *\n",
    "from pymbe.label import get_label_for_id\n",
    "from pymbe.query.metamodel_navigator import feature_multiplicity\n",
    "from pymbe.query.query import (\n",
    "    roll_up_multiplicity,\n",
    "    roll_up_upper_multiplicity,\n",
    "    roll_up_multiplicity_for_type,\n",
    "    get_types_for_feature,\n",
    "    get_features_typed_by_type,\n",
    ")\n",
    "from pymbe.local.stablization import build_stable_id_lookups"
   ]
  },
  {
   "cell_type": "markdown",
   "id": "d0047e8f-b755-46e6-b1b1-79fbe1036a65",
   "metadata": {},
   "source": [
    "## Load Up Model\n",
    "\n",
    "Read the model from the local JSON file."
   ]
  },
  {
   "cell_type": "code",
   "execution_count": 3,
   "id": "5a8bde6a-7e81-45d6-88ae-9559776b9e33",
   "metadata": {},
   "outputs": [
    {
     "name": "stdout",
     "output_type": "stream",
     "text": [
      "These edge types are not in the graph: {'ImpliedReferentFeed', 'ImpliedParameterFeedforward', 'ImpliedPathArgumentFeedforward'}.\n",
      "Duplicate name found for: 'Model::Occurrences::Occurrence::04119598-4507-4302-93aa-74c848f3c9b2 «Invariant»::None => Null Result::test::== => Null Result::s.endShot => Null Result::mapper <<FeatureReferenceExpression>>'\n",
      "Duplicate name found for: 'Model::SequenceFunctions::includesOnly::&& => Null Result::None => Null Result::FRE.seq1 <<FeatureReferenceExpression>>'\n",
      "Duplicate name found for: 'Model::SequenceFunctions::equals::&& => Null Result::secondValue: forAll::test::== => Null Result::[ => Null Result <<OperatorExpression>>'\n",
      "Duplicate name found for: 'Model::SequenceFunctions::equals::&& => Null Result::secondValue::size => Null Result <<InvocationExpression>>'\n",
      "Duplicate name found for: 'Model::StatePerformance::triggerDuring: HappensDuring::a633cff3-8f09-40f6-9b8e-c8f9fceb8a0d «Invariant»::| => Null Result::! => Null Result <<OperatorExpression>>'\n",
      "Duplicate name found for: 'Model::Transfer::4f01b6c8-d8d8-4ed5-94a9-9c124868fa44 «Invariant»::| => Null Result::== => Null Result::size => Null Result <<InvocationExpression>>'\n",
      "Duplicate name found for: 'Model::StatePerformance::a2108115-2d59-42c4-866f-8020e9e9e6a5 «Invariant»::== => Null Result::isEmpty => Null Result <<InvocationExpression>>'\n",
      "Duplicate name found for: 'Model::Base::exactlyOne: Natural::1 «Occurred LiteralInteger» <<LiteralInteger>>'\n",
      "Duplicate name found for: 'Model::SequenceFunctions::includesOnly::&& => Null Result::None => Null Result <<OperatorExpression>>'\n",
      "Duplicate name found for: 'Model::StateTransitionPerformance::linkAcceptFirst: HappensDuring::02a49772-6790-44c1-824b-f662d9eb7650 «Invariant»::| => Null Result::! => Null Result::transitionLinkSource.isAcceptFirst => Null Result::mapper: Evaluation <<FeatureReferenceExpression>>'\n",
      "Duplicate name found for: 'Model::Transfer::be45df5e-109a-442d-a81d-a23984f961e3 «Invariant»::| => Null Result::== => Null Result::size => Null Result <<InvocationExpression>>'\n",
      "Duplicate name found for: 'Model::SequenceFunctions::equals::&& => Null Result::secondValue: forAll::test::== => Null Result::[ => Null Result::FRE.i <<FeatureReferenceExpression>>'\n",
      "Duplicate name found for: 'Model::SequenceFunctions::includesOnly::&& => Null Result::None => Null Result::FRE.seq2 <<FeatureReferenceExpression>>'\n",
      "Duplicate name found for: 'Model::Occurrences::Occurrence::04119598-4507-4302-93aa-74c848f3c9b2 «Invariant»::None => Null Result::test::== => Null Result::s.startShot => Null Result::mapper <<FeatureReferenceExpression>>'\n",
      "Duplicate name found for: 'Model::StatePerformance::acceptFirst: HappensBefore::dfa79627-bc61-4fb4-8c83-ba01dcaf09df «Invariant»::| => Null Result::== => Null Result::size => Null Result <<InvocationExpression>>'\n",
      "Duplicate name found for: 'Model::StateTransitionPerformance::linkAcceptFirst: HappensDuring::02a49772-6790-44c1-824b-f662d9eb7650 «Invariant»::| => Null Result::== => Null Result::size => Null Result <<InvocationExpression>>'\n"
     ]
    },
    {
     "name": "stderr",
     "output_type": "stream",
     "text": [
      "c:\\users\\bjorn\\documents\\git\\pymbe\\src\\pymbe\\graph\\edge_generators.py:149: UserWarning: Found 0 Expression Results and 1 Return Parameter Members!\n",
      "  warn(\n",
      "c:\\users\\bjorn\\documents\\git\\pymbe\\src\\pymbe\\graph\\edge_generators.py:149: UserWarning: Found 0 Expression Results and 2 Return Parameter Members!\n",
      "  warn(\n",
      "c:\\users\\bjorn\\documents\\git\\pymbe\\src\\pymbe\\graph\\lpg.py:183: UserWarning: Could not find an implied edge generator for 'ImpliedPathArgumentFeedforward'\n",
      "  warn(f\"Could not find an implied edge generator for '{implied_edge_type}'\")\n",
      "c:\\users\\bjorn\\documents\\git\\pymbe\\src\\pymbe\\graph\\lpg.py:183: UserWarning: Could not find an implied edge generator for 'ImpliedReferentFeed'\n",
      "  warn(f\"Could not find an implied edge generator for '{implied_edge_type}'\")\n"
     ]
    }
   ],
   "source": [
    "circuit_file = Path(pm.__file__).parent / \"../../tests/fixtures/Circuit Builder.json\"\n",
    "\n",
    "circuit_model = pm.Model.load_from_file(circuit_file)\n",
    "circuit_lpg = SysML2LabeledPropertyGraph(model=circuit_model)\n",
    "[id_to_circuit_name_lookup, circuit_name_to_id_lookup] = build_stable_id_lookups(circuit_lpg)\n",
    "\n",
    "circuit_lpg.model.MAX_MULTIPLICITY = 100"
   ]
  },
  {
   "cell_type": "markdown",
   "id": "12cf48ba-47b6-44c7-9eb8-3a8df5ff9bf2",
   "metadata": {},
   "source": [
    "## Explore Contents of Model with M1 in Memory\n",
    "\n",
    "Use the M1 memory objects to see what is in the current model, starting with the main packages."
   ]
  },
  {
   "cell_type": "code",
   "execution_count": 4,
   "id": "d4f0ccf2-fae9-42cb-91fe-517c6424acca",
   "metadata": {},
   "outputs": [
    {
     "data": {
      "text/plain": [
       "(<Objects «Package»>,\n",
       " <ControlFunctions «Package»>,\n",
       " <States «Package»>,\n",
       " <Transfers «Package»>,\n",
       " <Base «Package»>,\n",
       " <ScalarFunctions «Package»>,\n",
       " <ControlPerformances «Package»>,\n",
       " <TransitionPerformances «Package»>,\n",
       " <SequenceFunctions «Package»>,\n",
       " <Circuit Builder «Package»>,\n",
       " <Parts «Package»>,\n",
       " <ScalarValues «Package»>,\n",
       " <Links «Package»>,\n",
       " <Ports «Package»>,\n",
       " <Items «Package»>,\n",
       " <Connections «Package»>,\n",
       " <Performances «Package»>,\n",
       " <Occurrences «Package»>,\n",
       " <Constraints «Package»>,\n",
       " <StatePerformances «Package»>,\n",
       " <Actions «Package»>)"
      ]
     },
     "execution_count": 4,
     "metadata": {},
     "output_type": "execute_result"
    }
   ],
   "source": [
    "circuit_model.packages"
   ]
  },
  {
   "cell_type": "code",
   "execution_count": 5,
   "id": "2ec2fc5c-6e1a-4aa8-bd93-295d93e93def",
   "metadata": {},
   "outputs": [
    {
     "data": {
      "text/plain": [
       "[<Pin «PortDefinition»>,\n",
       " <Two Pin «PartDefinition»>,\n",
       " <ConnectionDefinition([<Anything «Classifier»>] ←→ [<Anything «Classifier»>])>,\n",
       " <Resistor «PartDefinition»>,\n",
       " <Diode «PartDefinition»>,\n",
       " <EMF «PartDefinition»>,\n",
       " <Circuit «PartDefinition»>]"
      ]
     },
     "execution_count": 5,
     "metadata": {},
     "output_type": "execute_result"
    }
   ],
   "source": [
    "circuit_model.ownedElement[\"Circuit Builder\"].ownedElement"
   ]
  },
  {
   "cell_type": "code",
   "execution_count": 6,
   "id": "7abd99cf-4cfa-4b1a-bfc1-d1b1105b5ff9",
   "metadata": {},
   "outputs": [],
   "source": [
    "circuit_def = circuit_model.ownedElement[\"Circuit Builder\"].ownedElement[\"Circuit\"]"
   ]
  },
  {
   "cell_type": "markdown",
   "id": "283c91a3-e8fe-4ac0-bab5-306a288f280b",
   "metadata": {},
   "source": [
    "### Circuit and its Features\n",
    "\n",
    "Here is the circuit and its features, both parts and used connections."
   ]
  },
  {
   "cell_type": "code",
   "execution_count": 7,
   "id": "731dea86-2411-4fb0-b223-88bef2cfbd93",
   "metadata": {},
   "outputs": [
    {
     "data": {
      "text/plain": [
       "{'throughFeatureMembership': [<Motive Force «PartUsage»>,\n",
       "  <Circuit Diode «PartUsage»>,\n",
       "  <ConnectionUsage([<01256e61-468b-401b-9e89-3f23a2a10f1f «Feature»>] ←→ [<f869a003-9654-404e-9360-f2397b8a16d5 «Feature»>])>,\n",
       "  <Component «PartUsage»>,\n",
       "  <Circuit Resistor «PartUsage»>],\n",
       " 'reverseMembership': [<Circuit Builder «Package»>]}"
      ]
     },
     "execution_count": 7,
     "metadata": {},
     "output_type": "execute_result"
    }
   ],
   "source": [
    "circuit_def.relationships"
   ]
  },
  {
   "cell_type": "code",
   "execution_count": 8,
   "id": "28557de8-4ec2-42b6-a829-654fdc6b876e",
   "metadata": {},
   "outputs": [
    {
     "data": {
      "text/plain": [
       "[<Component «PartUsage»>,\n",
       " <Circuit Resistor «PartUsage»>,\n",
       " <Circuit Diode «PartUsage»>,\n",
       " <Motive Force «PartUsage»>,\n",
       " <ConnectionUsage([<01256e61-468b-401b-9e89-3f23a2a10f1f «Feature»>] ←→ [<f869a003-9654-404e-9360-f2397b8a16d5 «Feature»>])>]"
      ]
     },
     "execution_count": 8,
     "metadata": {},
     "output_type": "execute_result"
    }
   ],
   "source": [
    "circuit_def.ownedMember"
   ]
  },
  {
   "cell_type": "markdown",
   "id": "fae3a150-6770-4567-b617-c8284b36600d",
   "metadata": {},
   "source": [
    "## Update multiplicities\n",
    "for `Resistors`, `Diodes`, and `Connections`"
   ]
  },
  {
   "cell_type": "code",
   "execution_count": 9,
   "id": "c8cb350f-cb10-4eb6-8dd5-4a5f543c56c5",
   "metadata": {},
   "outputs": [],
   "source": [
    "multiplicity = circuit_def.ownedMember[\"Circuit Resistor\"].multiplicity\n",
    "multiplicity.lowerBound._data[\"value\"], multiplicity.upperBound._data[\"value\"] = NUM_RESISTORS\n",
    "\n",
    "multiplicity = circuit_def.ownedMember[\"Circuit Diode\"].multiplicity\n",
    "multiplicity.lowerBound._data[\"value\"], multiplicity.upperBound._data[\"value\"] = NUM_DIODES\n",
    "\n",
    "# Get the ConnectionUsage\n",
    "for member in circuit_def.ownedMember:\n",
    "    if member._metatype != \"ConnectionUsage\":\n",
    "        continue\n",
    "    member.multiplicity.lowerBound._data[\"value\"], member.multiplicity.upperBound._data[\"value\"] = NUM_CONNECTORS\n",
    "    connection = member"
   ]
  },
  {
   "cell_type": "markdown",
   "id": "94ea2e9f-f4af-4e97-9e5e-713f3833c12a",
   "metadata": {},
   "source": [
    "## Generate M0 instances from the M1 model\n",
    "\n",
    "Use the M1 model to start creating a series of instances to represent the circuits that should be analyzed."
   ]
  },
  {
   "cell_type": "code",
   "execution_count": 10,
   "id": "5d107dc0-f186-476d-800e-723e4a1ed6e6",
   "metadata": {},
   "outputs": [
    {
     "name": "stdout",
     "output_type": "stream",
     "text": [
      "These edge types are not in the graph: {'ImpliedFeatureTyping'}.\n"
     ]
    }
   ],
   "source": [
    "m0_interpretations = [\n",
    "    random_generator_playbook(\n",
    "        lpg=circuit_lpg,\n",
    "        name_hints={},\n",
    "        filtered_feat_packages=[circuit_lpg.model.ownedElement[\"Circuit Builder\"]],\n",
    "        phase_limit=10,\n",
    "    ) for _ in range(NUM_INTERPRETATIONS)\n",
    "]"
   ]
  },
  {
   "cell_type": "markdown",
   "id": "1999bb54-3183-4f0f-8ee0-5e2bd172e602",
   "metadata": {},
   "source": [
    "### Sort the interpretations by number of connections\n",
    "Sorted from `most` to `least`, and pick the first one."
   ]
  },
  {
   "cell_type": "code",
   "execution_count": 11,
   "id": "ee0363db-54ad-46b0-b633-191f1dac0e08",
   "metadata": {},
   "outputs": [],
   "source": [
    "# sort the interpretations from most connections to fewer connections\n",
    "m0_interpretations = [*sorted(m0_interpretations, key=lambda x: len(x[connection._id]), reverse=True)]\n",
    "m0_interpretation = m0_interpretations[0]"
   ]
  },
  {
   "cell_type": "markdown",
   "id": "e0d3308f-053c-4c28-8d09-3c681b48c941",
   "metadata": {},
   "source": [
    "## Filter M0 Instances for Reasonable Circuits\n",
    "\n",
    "Until we get more sophisticated and can interpret constraints, the initial approach is to filter out solutions with unanalyzable layouts or trim the layouts to something more tractable."
   ]
  },
  {
   "cell_type": "markdown",
   "id": "fa01e6bf-8afc-4182-b5b4-dca690f03ded",
   "metadata": {},
   "source": [
    "### Connector End Checks\n",
    "\n",
    "Look at the ends of the three main kinds of connectors."
   ]
  },
  {
   "cell_type": "code",
   "execution_count": 12,
   "id": "70a0f874-05ea-4643-9162-ea836cc0d31d",
   "metadata": {},
   "outputs": [
    {
     "data": {
      "text/plain": [
       "'4823f832-f7ed-4f37-905b-b5bf4e21bee4'"
      ]
     },
     "execution_count": 12,
     "metadata": {},
     "output_type": "execute_result"
    }
   ],
   "source": [
    "p2p = circuit_def.ownedMember[\"Part to Part\"]\n",
    "p2p.endFeature[0]._id"
   ]
  },
  {
   "cell_type": "code",
   "execution_count": 13,
   "id": "b24b8b54-4d59-4a27-bc29-cbfefd5d01f0",
   "metadata": {},
   "outputs": [
    {
     "name": "stdout",
     "output_type": "stream",
     "text": [
      "[Circuit#6, Circuit Connection#37, EMF#6, Pin#45] --> [Circuit#6, Circuit Connection#37, Resistor#15, Pin#46]\n",
      "[Circuit#6, Circuit Connection#38, Resistor#15, Pin#49] --> [Circuit#6, Circuit Connection#38, EMF#6, Pin#48]\n",
      "[Circuit#6, Circuit Connection#39, Resistor#16, Pin#50] --> [Circuit#6, Circuit Connection#39, Resistor#16, Pin#47]\n",
      "[Circuit#6, Circuit Connection#40, Resistor#15, Pin#49] --> [Circuit#6, Circuit Connection#40, Resistor#16, Pin#47]\n",
      "[Circuit#6, Circuit Connection#41, Resistor#16, Pin#50] --> [Circuit#6, Circuit Connection#41, Resistor#15, Pin#46]\n",
      "[Circuit#6, Circuit Connection#42, EMF#6, Pin#45] --> [Circuit#6, Circuit Connection#42, EMF#6, Pin#48]\n",
      "[Circuit#6, Circuit Connection#43, Resistor#15, Pin#49] --> [Circuit#6, Circuit Connection#43, EMF#6, Pin#48]\n",
      "[Circuit#6, Circuit Connection#44, EMF#6, Pin#45] --> [Circuit#6, Circuit Connection#44, EMF#6, Pin#48]\n",
      "[Circuit#6, Circuit Connection#45, Resistor#15, Pin#49] --> [Circuit#6, Circuit Connection#45, EMF#6, Pin#48]\n",
      "[Circuit#6, Circuit Connection#46, Resistor#15, Pin#49] --> [Circuit#6, Circuit Connection#46, Resistor#16, Pin#47]\n"
     ]
    }
   ],
   "source": [
    "source_feat, target_feat = p2p.endFeature\n",
    "for source, target in zip(m0_interpretation[source_feat._id], m0_interpretation[target_feat._id]):\n",
    "    print(source, \"-->\", target)"
   ]
  },
  {
   "cell_type": "markdown",
   "id": "9b3f5ade-c02f-4ecb-874f-1af9cbbcd04a",
   "metadata": {},
   "source": [
    "> Janky A.F. connector filter\n",
    "\n",
    "The cell below filters out:\n",
    "* self-connections\n",
    "* duplicate connectors between the same m0 pins"
   ]
  },
  {
   "cell_type": "code",
   "execution_count": 42,
   "id": "1460a6e4-0ac6-4c99-8d88-8c6e3f2e8846",
   "metadata": {},
   "outputs": [],
   "source": [
    "def inspect_graph(interpretation=0):\n",
    "    unique_connections = get_unique_connections(m0_interpretations[interpretation], p2p.endFeature)\n",
    "    circuit_stats = {}\n",
    "    \n",
    "    def get_el_name(element):\n",
    "        name = element.name\n",
    "        name, num = name.split(\"#\")\n",
    "        name = name if name == \"EMF\" else name[0]\n",
    "        return name + num\n",
    "    \n",
    "    def legal_predecessors(g, n, valids):\n",
    "        all_pred = set(g.predecessors(n))\n",
    "        return {pred for pred in all_pred if pred in valids}\n",
    "    \n",
    "    def legal_successors(g, n, valids):\n",
    "        all_suc = set(g.successors(n))\n",
    "        return {pred for pred in all_suc if pred in valids}\n",
    "\n",
    "    graph = nx.DiGraph()\n",
    "    edges = [\n",
    "        ((get_el_name(source[-2]), \"Pos\"), (get_el_name(target[-2]), \"Neg\"))\n",
    "        for source, target in unique_connections\n",
    "    ]\n",
    "    nodes = {\n",
    "        n[0]\n",
    "        for n, _ in edges\n",
    "        for _, n in edges\n",
    "    }\n",
    "    edges += [\n",
    "        ((node, \"Neg\"), (node, \"Pos\"))\n",
    "        for node in nodes\n",
    "        if not node.startswith(\"EMF\")\n",
    "    ]\n",
    "    graph.add_edges_from(edges)\n",
    "    \n",
    "    emf_pos_name = [(node, \"Pos\") for node in nodes if node.startswith(\"EMF\")][0]\n",
    "    emf_neg_name = [(node, \"Neg\") for node in nodes if node.startswith(\"EMF\")][0]\n",
    "    \n",
    "    # find all paths in the graph from EMF positive side to EMF negative side\n",
    "    \n",
    "    flows = list(nx.all_simple_paths(graph, emf_pos_name, emf_neg_name))\n",
    "    flow_edges = list(nx.all_simple_edge_paths(graph, emf_pos_name, emf_neg_name))\n",
    "    \n",
    "    flowed_nodes = {node for flow in flows for node in flow}\n",
    "    \n",
    "    circuit_stats['valid_edges'] = set(sum(flow_edges, []))\n",
    "    \n",
    "    valid_graph = nx.DiGraph()\n",
    "    valid_graph.add_edges_from(circuit_stats['valid_edges'])\n",
    "    \n",
    "    # look at junctions in the graph\n",
    "    \n",
    "    # split junctions - where a positive pin has multiple outputs\n",
    "    circuit_stats['split_junctions'] = {\n",
    "        node: legal_successors(valid_graph, node, flowed_nodes)\n",
    "        for node in graph.nodes if len(legal_successors(valid_graph, node, flowed_nodes)) > 1\n",
    "    }\n",
    "    \n",
    "    # join junctions - where a negative pin has multiple inputs\n",
    "    \n",
    "    circuit_stats['join_junctions'] = {\n",
    "        node: legal_predecessors(valid_graph, node, flowed_nodes)\n",
    "        for node in graph.nodes if len(legal_predecessors(valid_graph, node, flowed_nodes)) > 1\n",
    "    }\n",
    "    \n",
    "    circuit_stats['both_ways_junctions'] = {\n",
    "        node\n",
    "        for node in graph.nodes if len(legal_successors(valid_graph, node, flowed_nodes)) > 1\n",
    "        if node in sum(map(list, circuit_stats['join_junctions'].values()), [])\n",
    "    }\n",
    "    \n",
    "    circuit_stats['number_loops'] = len(flows)\n",
    "    circuit_stats['valid_nodes'] = flowed_nodes\n",
    "    \n",
    "    circuit_stats['loop_edges'] = flow_edges\n",
    "    \n",
    "    circuit_stats['cleaned_graph'] = valid_graph\n",
    "    circuit_stats['plain_graph'] = graph\n",
    "    \n",
    "    circuit_stats['emf_pins'] = {\"+\": emf_pos_name, \"-\": emf_neg_name}\n",
    "    \n",
    "    # compute the independent loops on the graph\n",
    "    \n",
    "    # EMF positive is always in loop #1\n",
    "    \n",
    "    circuit_stats['loop_unique_edges'] = []\n",
    "    \n",
    "    if circuit_stats['number_loops'] > 1:\n",
    "        encountered_nodes = set()\n",
    "        for indx in range(0, circuit_stats['number_loops']):\n",
    "            new_edges = []\n",
    "            for edg in flow_edges[indx]:\n",
    "                if edg not in encountered_nodes:\n",
    "                    new_edges.append(edg)\n",
    "                    encountered_nodes.add(edg)\n",
    "            circuit_stats['loop_unique_edges'].append(new_edges)\n",
    "    else:\n",
    "        circuit_stats['loop_unique_edges'] = list[flow_edges]\n",
    "    \n",
    "    return circuit_stats"
   ]
  },
  {
   "cell_type": "code",
   "execution_count": 85,
   "id": "1f0eb117-4251-4ea1-9d90-f3e666f3d3ef",
   "metadata": {},
   "outputs": [
    {
     "data": {
      "application/vnd.jupyter.widget-view+json": {
       "model_id": "15e49eaf567b4ac8b73cb8ed82c8f7cb",
       "version_major": 2,
       "version_minor": 0
      },
      "text/plain": [
       "interactive(children=(IntSlider(value=24, description='interpretation', max=49), FloatSlider(value=0.25, descr…"
      ]
     },
     "metadata": {},
     "output_type": "display_data"
    }
   ],
   "source": [
    "import ipywidgets as ipyw\n",
    "import matplotlib.pyplot as plt\n",
    "from IPython.display import display\n",
    "\n",
    "def get_unique_connections(instances, feature):\n",
    "    source_feat, target_feat = feature\n",
    "    m0_connector_ends = [\n",
    "        (tuple(source), tuple(target))\n",
    "        for source, target in zip(instances[source_feat._id], instances[target_feat._id])\n",
    "    ]\n",
    "\n",
    "    m0_connector_ends = tuple({\n",
    "        (source, target)\n",
    "        for source, target in m0_connector_ends\n",
    "        if source[:-1] != target[:-1]\n",
    "    })\n",
    "\n",
    "    unique_connections = {\n",
    "        (source[-2:], target[-2:]): (source, target)\n",
    "        for source, target in m0_connector_ends\n",
    "    }\n",
    "    return tuple((source, target) for source, target in unique_connections.values())\n",
    "    # return tuple((source, target) for source, target in m0_connector_ends)\n",
    "\n",
    "\n",
    "def draw_circuit(circuit_graph: nx.DiGraph, figsize=None, rad=0.1, arrowsize=40, linewidth=2, layout=\"kamada_kawai\"):\n",
    "    figsize = figsize or (20, 20)\n",
    "\n",
    "    color_dict = {\n",
    "        \"blue\": \"R\",\n",
    "        \"#A020F0\": \"D\",\n",
    "        \"red\": \"EMF\",\n",
    "    }\n",
    "    layout_algorithm = getattr(nx.layout, f\"{layout}_layout\")\n",
    "    node_pos = layout_algorithm(circuit_graph)\n",
    "\n",
    "    internal_edge_list = [\n",
    "        (n1, n2)\n",
    "        for n1, n2 in circuit_graph.edges\n",
    "        if n1[0] == n2[0]\n",
    "    ]\n",
    "    connect_edge_list = [\n",
    "        edge\n",
    "        for edge in circuit_graph.edges\n",
    "        if edge not in internal_edge_list\n",
    "    ]\n",
    "    \n",
    "    nodes = {\n",
    "        n[0]\n",
    "        for n, _ in circuit_graph.edges\n",
    "        for _, n in circuit_graph.edges\n",
    "    }\n",
    "    \n",
    "    emf_pos_name = [(node, \"Pos\") for node in nodes if node.startswith(\"EMF\")][0]\n",
    "    emf_neg_name = [(node, \"Neg\") for node in nodes if node.startswith(\"EMF\")][0]\n",
    "    \n",
    "    flow_edges = list(nx.all_simple_edge_paths(circuit_graph, emf_pos_name, emf_neg_name))\n",
    "    \n",
    "    loop_edge_list = []\n",
    "    \n",
    "    if len(flow_edges) > 1:\n",
    "        encountered_edges = set(internal_edge_list)\n",
    "        for indx in range(0, len(flow_edges)):\n",
    "            new_edges = []\n",
    "            for edg in flow_edges[indx]:\n",
    "                if edg not in encountered_edges:\n",
    "                    new_edges.append(edg)\n",
    "                    encountered_edges.add(edg)\n",
    "            loop_edge_list.append(new_edges)\n",
    "    else:\n",
    "        loop_edge_list = [connect_edge_list]\n",
    "        \n",
    "    loop_edge_tuple = tuple(loop_edge_list)\n",
    "        \n",
    "    plt.figure(figsize=figsize)\n",
    "    for color, colored_nodes in color_dict.items():\n",
    "        poses = {\n",
    "            node: loc\n",
    "            for node, loc in node_pos.items() if node[0].startswith(colored_nodes)\n",
    "        }\n",
    "        nx.draw_networkx_nodes(circuit_graph, poses, nodelist=list(poses.keys()), node_size=1200, node_color=color)\n",
    "    \n",
    "    color_list_master = (\"#f68e11\", \"#93a109\", \"#063e00\")\n",
    "    \n",
    "    # My iterators suck - sorry Santiago\n",
    "    \n",
    "    color_list = []\n",
    "    for indx in range(0, len(flow_edges)):\n",
    "        color_list.append(color_list_master[indx])\n",
    "    \n",
    "    style_tuple = tuple([\"-\" for _ in range(0, len(flow_edges))])\n",
    "    color_tuple = tuple(color_list)\n",
    "    arrow_tuple = tuple([\"-|>\" for _ in range(0, len(flow_edges))])\n",
    "    \n",
    "    #print(arrow_tuple + (\"->\",))\n",
    "\n",
    "    #for edgelist, style, edge_color, arrowstyle in zip((connect_edge_list, internal_edge_list), (\"-\", (0, (5, 5))), (\"black\", \"gray\"), (\"-|>\", \"->\")):\n",
    "    for edgelist, style, edge_color, arrowstyle in \\\n",
    "        zip(loop_edge_tuple + tuple([internal_edge_list]), style_tuple + (\":\",), color_tuple + (\"gray\",), arrow_tuple + (\"->\",)):\n",
    "        nx.draw_networkx_edges(\n",
    "            circuit_graph,\n",
    "            node_pos,\n",
    "            arrowstyle=arrowstyle,\n",
    "            edgelist=edgelist,\n",
    "            edge_color=edge_color,\n",
    "            width=linewidth,\n",
    "            style=style,\n",
    "            arrowsize=arrowsize,\n",
    "            connectionstyle=f\"arc3,rad={rad}\",\n",
    "        )\n",
    "\n",
    "    labels = {(node, polarity): f\"{node}{'-' if polarity=='Neg' else '+'}\" for node, polarity in node_pos}\n",
    "    label_options = {\"boxstyle\": \"circle\", \"ec\": \"white\", \"fc\": \"white\", \"alpha\": 0.0}\n",
    "\n",
    "    nx.draw_networkx_labels(\n",
    "        circuit_graph,\n",
    "        node_pos,\n",
    "        labels,\n",
    "        font_size=8,\n",
    "        font_color=\"white\",\n",
    "        font_weight=\"bold\",\n",
    "        bbox=label_options,\n",
    "    )\n",
    "    plt.show()\n",
    "\n",
    "nx_layouts = sorted([\n",
    "    layout.replace(\"_layout\", \"\")\n",
    "    for layout in dir(nx.layout)\n",
    "    if layout.endswith(\"_layout\")\n",
    "    and not any(bad_stuff in layout for bad_stuff in (\"partite\", \"rescale\", \"planar\"))\n",
    "])\n",
    "    \n",
    "@ipyw.interact()\n",
    "def draw_graph(\n",
    "    interpretation=(0, len(m0_interpretations)-1),\n",
    "    edge_curvature=(0, 0.5, 0.05),\n",
    "    linewidth=(1, 3, 0.2),\n",
    "    layout=nx_layouts,\n",
    "    clean=True,\n",
    "):\n",
    "    try:\n",
    "        graph = inspect_graph(interpretation)['cleaned_graph' if clean else 'plain_graph']\n",
    "        draw_circuit(graph, figsize=(20, 10), rad=edge_curvature, linewidth=linewidth, layout=layout)\n",
    "    except Exception as exc:\n",
    "        print(f\"Interpretation {interpretation} does not form a valid circuit, because: {exc}\")"
   ]
  },
  {
   "cell_type": "code",
   "execution_count": 63,
   "id": "44bb321f-3573-41d3-a890-092aa8a2059a",
   "metadata": {},
   "outputs": [
    {
     "data": {
      "text/plain": [
       "{'valid_edges': {(('EMF44', 'Pos'), ('R137', 'Neg')),\n",
       "  (('EMF44', 'Pos'), ('R138', 'Neg')),\n",
       "  (('R136', 'Neg'), ('R136', 'Pos')),\n",
       "  (('R136', 'Pos'), ('R138', 'Neg')),\n",
       "  (('R137', 'Neg'), ('R137', 'Pos')),\n",
       "  (('R137', 'Pos'), ('R136', 'Neg')),\n",
       "  (('R138', 'Neg'), ('R138', 'Pos')),\n",
       "  (('R138', 'Pos'), ('EMF44', 'Neg'))},\n",
       " 'split_junctions': {('EMF44', 'Pos'): {('R137', 'Neg'), ('R138', 'Neg')}},\n",
       " 'join_junctions': {('R138', 'Neg'): {('EMF44', 'Pos'), ('R136', 'Pos')}},\n",
       " 'both_ways_junctions': {('EMF44', 'Pos')},\n",
       " 'number_loops': 2,\n",
       " 'valid_nodes': {('EMF44', 'Neg'),\n",
       "  ('EMF44', 'Pos'),\n",
       "  ('R136', 'Neg'),\n",
       "  ('R136', 'Pos'),\n",
       "  ('R137', 'Neg'),\n",
       "  ('R137', 'Pos'),\n",
       "  ('R138', 'Neg'),\n",
       "  ('R138', 'Pos')},\n",
       " 'loop_edges': [[(('EMF44', 'Pos'), ('R137', 'Neg')),\n",
       "   (('R137', 'Neg'), ('R137', 'Pos')),\n",
       "   (('R137', 'Pos'), ('R136', 'Neg')),\n",
       "   (('R136', 'Neg'), ('R136', 'Pos')),\n",
       "   (('R136', 'Pos'), ('R138', 'Neg')),\n",
       "   (('R138', 'Neg'), ('R138', 'Pos')),\n",
       "   (('R138', 'Pos'), ('EMF44', 'Neg'))],\n",
       "  [(('EMF44', 'Pos'), ('R138', 'Neg')),\n",
       "   (('R138', 'Neg'), ('R138', 'Pos')),\n",
       "   (('R138', 'Pos'), ('EMF44', 'Neg'))]],\n",
       " 'cleaned_graph': <networkx.classes.digraph.DiGraph at 0x29e3e074310>,\n",
       " 'plain_graph': <networkx.classes.digraph.DiGraph at 0x29e3e074640>,\n",
       " 'emf_pins': {'+': ('EMF44', 'Pos'), '-': ('EMF44', 'Neg')},\n",
       " 'loop_unique_edges': [[(('EMF44', 'Pos'), ('R137', 'Neg')),\n",
       "   (('R137', 'Neg'), ('R137', 'Pos')),\n",
       "   (('R137', 'Pos'), ('R136', 'Neg')),\n",
       "   (('R136', 'Neg'), ('R136', 'Pos')),\n",
       "   (('R136', 'Pos'), ('R138', 'Neg')),\n",
       "   (('R138', 'Neg'), ('R138', 'Pos')),\n",
       "   (('R138', 'Pos'), ('EMF44', 'Neg'))],\n",
       "  [(('EMF44', 'Pos'), ('R138', 'Neg'))]]}"
      ]
     },
     "execution_count": 63,
     "metadata": {},
     "output_type": "execute_result"
    }
   ],
   "source": [
    "inspect_graph(13)"
   ]
  },
  {
   "cell_type": "markdown",
   "id": "9c3b853d-5003-4991-80b7-296984f42157",
   "metadata": {},
   "source": [
    "## Compute Circuit Metrics\n",
    "\n",
    "Evaluate the circuit for number of branches, see if there are any dead loops or loopbacks in the circuit."
   ]
  },
  {
   "cell_type": "markdown",
   "id": "6f8e9698-06c1-45f3-8b5b-477457188a2a",
   "metadata": {},
   "source": [
    "## Determine Number of Unknowns in Circuit\n",
    "\n",
    "Compute the number of independent voltage and current levels around the circuit."
   ]
  },
  {
   "cell_type": "markdown",
   "id": "f89bbedc-46ed-4d92-aee0-56a6a6cfd029",
   "metadata": {},
   "source": [
    "# OpenMDAO\n",
    "> Based on OpenMDAO's [nonlinear circuit analysis example](https://openmdao.org/newdocs/versions/latest/examples/circuit_analysis_examples.html)."
   ]
  },
  {
   "cell_type": "code",
   "execution_count": 16,
   "id": "a15340a7-5964-4e42-b79e-3062aafbcd57",
   "metadata": {},
   "outputs": [],
   "source": [
    "from importlib import import_module\n",
    "\n",
    "import networkx as nx\n",
    "import openmdao.api as om"
   ]
  },
  {
   "cell_type": "markdown",
   "id": "56a6bac8-5b3a-45f5-b662-505a04207801",
   "metadata": {},
   "source": [
    "## Load OpenMDAO component classes"
   ]
  },
  {
   "cell_type": "code",
   "execution_count": 17,
   "id": "7b6fc74c-3aae-4cca-bc5f-ed9c10087752",
   "metadata": {},
   "outputs": [],
   "source": [
    "def load_class(class_path: str) -> type:\n",
    "    *module_path, class_name = class_path.split(\".\")\n",
    "    module = import_module(\".\".join(module_path))\n",
    "    return getattr(module, class_name)"
   ]
  },
  {
   "cell_type": "code",
   "execution_count": 18,
   "id": "6462d1e5-6782-4a18-9a4e-a2ed2dfa9939",
   "metadata": {},
   "outputs": [],
   "source": [
    "# TODO: this should be retrieved from the SysML model\n",
    "components_to_om = {\n",
    "    \"D\": \"openmdao.test_suite.test_examples.test_circuit_analysis.Diode\",\n",
    "    \"R\": \"openmdao.test_suite.test_examples.test_circuit_analysis.Resistor\",\n",
    "    \"Node\": \"openmdao.test_suite.test_examples.test_circuit_analysis.Node\",\n",
    "}\n",
    "\n",
    "components_to_om = {\n",
    "    name: load_class(class_path)\n",
    "    for name, class_path in components_to_om.items()\n",
    "}\n",
    "\n",
    "# FIXME: figure out a way to generalize this patterns\n",
    "circuit_components = {\n",
    "    element.name: dict(id=element._id, om=components_to_om[element.name])\n",
    "    for element in circuit_model.ownedElement[\"Circuit Builder\"].ownedElement\n",
    "    if element.name in components_to_om\n",
    "}"
   ]
  },
  {
   "cell_type": "markdown",
   "id": "a82906f9-30ca-472e-875a-ed9467d4b446",
   "metadata": {},
   "source": [
    "## Declare an OpenMDAO Group based on the SysML Model"
   ]
  },
  {
   "cell_type": "code",
   "execution_count": 19,
   "id": "18f1a357-5343-4156-99dc-a86c5f1fa1b0",
   "metadata": {},
   "outputs": [],
   "source": [
    "edges = (\n",
    "    ((\"EMF\", \"Pos\"), (\"R1\", \"Neg\")),\n",
    "    ((\"EMF\", \"Pos\"), (\"R2\", \"Neg\")),\n",
    "    ((\"R1\", \"Pos\"), (\"EMF\", \"Neg\")),\n",
    "    ((\"R2\", \"Pos\"), (\"D1\", \"Neg\")),\n",
    "    ((\"D1\", \"Pos\"), (\"EMF\", \"Neg\")),\n",
    ")\n",
    "baseline_digraph = nx.DiGraph()\n",
    "baseline_digraph.add_edges_from(edges)\n",
    "baseline_data = dict(\n",
    "    cleaned_graph=baseline_digraph,\n",
    "    emf_pins={\"+\": (\"EMF\", \"Pos\"), \"-\": (\"EMF\", \"Neg\")}\n",
    ")\n",
    "all_params = dict(R1=dict(R=100), R2=dict(R=10000))"
   ]
  },
  {
   "cell_type": "code",
   "execution_count": 20,
   "id": "8e59037b-ec06-430f-bfe4-185ea15e3a6d",
   "metadata": {},
   "outputs": [],
   "source": [
    "class Circuit(om.Group):\n",
    "    \n",
    "    def initialize(self):\n",
    "        self.options.declare(\"interpretation\", types=int)\n",
    "\n",
    "    def setup(self):\n",
    "        try:\n",
    "            interpretation = self.options[\"interpretation\"]\n",
    "            if RUN_BASELINE:\n",
    "                data = baseline_data\n",
    "            else:\n",
    "                data = inspect_graph(interpretation)\n",
    "            digraph = data[\"cleaned_graph\"]\n",
    "        except:\n",
    "            raise ValueError(f\"Interpretation {interpretation} does not produce a valid circuit!\")\n",
    "\n",
    "        V, *_ = next(digraph.successors(data[\"emf_pins\"][\"+\"]))\n",
    "        grounded = [el for el, pin in digraph.predecessors(data[\"emf_pins\"][\"-\"])]\n",
    "        \n",
    "        elements = {\n",
    "            element\n",
    "            for element, polarity in digraph.nodes\n",
    "            if not element.upper().startswith(\"EMF\")\n",
    "        }\n",
    "        for element in elements:\n",
    "            comp_cls = components_to_om.get(element[0])\n",
    "            kwargs = {}\n",
    "            params = all_params.get(element, {})\n",
    "            if params:\n",
    "                print(f\"Setting params={params} for {element}\")\n",
    "            if element in grounded:\n",
    "                kwargs[\"promotes_inputs\"] = [('V_out', 'Vg')]\n",
    "            if comp_cls is None:\n",
    "                print(f\"{element} doesn't have class!\")\n",
    "                continue\n",
    "            self.add_subsystem(f\"{element}\", comp_cls(**params), **kwargs)\n",
    "            \n",
    "        connectors = nx.DiGraph()\n",
    "        connectors.add_edges_from([\n",
    "            (src, tgt)\n",
    "            for src, tgt in digraph.edges\n",
    "            if src[0] != tgt[0]\n",
    "        ])\n",
    "        self.node_names = node_names = []\n",
    "        for node_id, comp in enumerate(nx.connected_components(connectors.to_undirected())):\n",
    "            node_name = f\"node_{node_id}\"\n",
    "\n",
    "            if data[\"emf_pins\"][\"-\"] in comp:\n",
    "                print(f\"  > Not adding '{node_name}' because it is connected to the ground ({data['emf_pins']['-']})\")\n",
    "                continue\n",
    "            node_names += [node_name]\n",
    "\n",
    "            has_pos_emf = data[\"emf_pins\"][\"+\"] in comp\n",
    "            if has_pos_emf:\n",
    "                self.source_node = node_name\n",
    "            \n",
    "            n_in = sum(1 for node in comp if node[1] == \"Pos\")\n",
    "            n_out = sum(1 for node in comp if node[1] == \"Neg\")\n",
    "\n",
    "            kwargs = dict(promotes_inputs=[('I_in:0', 'I_in')]) if has_pos_emf else {}\n",
    "            node = self.add_subsystem(\n",
    "                node_name,\n",
    "                components_to_om[\"Node\"](n_in=n_in, n_out=n_out),\n",
    "                **kwargs,\n",
    "            )\n",
    "            print(f\"  > Adding '{node_name}' with {n_in} inputs and {n_out} outputs\")\n",
    "            indeces = {\"in\": 1*has_pos_emf, \"out\": 0}\n",
    "            elec_volt_pins = []\n",
    "            for element, polarity in comp:\n",
    "                if element.startswith(\"EMF\"):\n",
    "                    continue\n",
    "                elem_dir = \"out\" if polarity == \"Pos\" else \"in\"\n",
    "                node_dir = \"out\" if elem_dir == \"in\" else \"in\"\n",
    "                elec_volt_pins += [f\"{element}.V_{elem_dir}\"]\n",
    "\n",
    "                node_current = f\"{node_name}.I_{node_dir}:{indeces[node_dir]}\"\n",
    "                self.connect(f\"{element}.I\", node_current)\n",
    "                print(f\"  > Connecting currents: {element}.I --> {node_current}\")\n",
    "                indeces[node_dir] += 1\n",
    "            if elec_volt_pins:\n",
    "                try:\n",
    "                    self.connect(f\"{node_name}.V\", elec_volt_pins)\n",
    "                    print(f\" >  Connecting voltages for node {node_name}.V --> {elec_volt_pins}\")\n",
    "                except:\n",
    "                    print(f\"  ! Could not connect: {node_name}.V --> {elec_volt_pins}\")\n",
    "\n",
    "        self.nonlinear_solver = om.NewtonSolver()\n",
    "        self.linear_solver = om.DirectSolver()\n",
    "\n",
    "        self.nonlinear_solver.options['iprint'] = 2\n",
    "        self.nonlinear_solver.options['maxiter'] = 10\n",
    "        self.nonlinear_solver.options['solve_subsystems'] = True\n",
    "        self.nonlinear_solver.linesearch = om.ArmijoGoldsteinLS()\n",
    "        self.nonlinear_solver.linesearch.options['maxiter'] = 10\n",
    "        self.nonlinear_solver.linesearch.options['iprint'] = 2\n",
    "        \n",
    "        return True"
   ]
  },
  {
   "cell_type": "code",
   "execution_count": 21,
   "id": "fff6a373-dbf3-40e7-b525-95a4e56e6a57",
   "metadata": {},
   "outputs": [
    {
     "name": "stdout",
     "output_type": "stream",
     "text": [
      ">>> Trying to setup 0!\n",
      "Setting params={'R': 10000} for R2\n",
      "Setting params={'R': 100} for R1\n",
      "  > Adding 'node_0' with 1 inputs and 2 outputs\n",
      "  > Connecting currents: R1.I --> node_0.I_out:0\n",
      "  > Connecting currents: R2.I --> node_0.I_out:1\n",
      " >  Connecting voltages for node node_0.V --> ['R1.V_in', 'R2.V_in']\n",
      "  > Not adding 'node_1' because it is connected to the ground (('EMF', 'Neg'))\n",
      "  > Adding 'node_2' with 1 inputs and 1 outputs\n",
      "  > Connecting currents: R2.I --> node_2.I_in:0\n",
      "  > Connecting currents: D1.I --> node_2.I_out:0\n",
      " >  Connecting voltages for node node_2.V --> ['R2.V_out', 'D1.V_in']\n",
      " >> Successfully set up 0\n",
      "\n",
      "=========\n",
      "circuit_0\n",
      "=========\n",
      "NL: Newton 0 ; 0.00140007143 1\n",
      "|  LS: AG 1 ; 6.9706756e+152 1\n",
      "|  LS: AG 2 ; 5.7657237e+69 0.5\n",
      "|  LS: AG 3 ; 1.65822441e+28 0.25\n",
      "|  LS: AG 4 ; 28121471.5 0.125\n",
      "|  LS: AG 5 ; 0.000956185889 0.0625\n",
      "NL: Newton 1 ; 0.000956185889 0.682955077\n",
      "NL: Newton 2 ; 2.29803213e-05 0.0164136778\n",
      "NL: Newton 3 ; 2.76843426e-07 0.000197735216\n",
      "NL: Newton 4 ; 4.67602463e-11 3.3398472e-08\n",
      "NL: Newton Converged\n",
      "  + Successfully ran 0!\n",
      "\n"
     ]
    }
   ],
   "source": [
    "import traceback\n",
    "\n",
    "# RUN_BASELINE = False\n",
    "\n",
    "for idx in range(len(m0_interpretations)):\n",
    "    try:\n",
    "        print(f\">>> Trying to setup {idx}!\")\n",
    "        p = om.Problem()\n",
    "        model = p.model\n",
    "        circuit_name = f'circuit_{idx}'\n",
    "        model.add_subsystem(circuit_name, Circuit(interpretation=idx))\n",
    "        is_valid = p.setup()\n",
    "        if not is_valid:\n",
    "            raise ValueError(f\"  ! Interpretation {idx} does not produce a valid circuit!\")\n",
    "        print(f\" >> Successfully set up {idx}\")\n",
    "        try:\n",
    "            circuit = getattr(p.model, circuit_name)\n",
    "            p.set_val(f\"{circuit_name}.I_in\", 0.1)\n",
    "            p.set_val(f\"{circuit_name}.Vg\", 0)\n",
    "            for node_name in circuit.node_names:\n",
    "                p.set_val(\n",
    "                    f\"{circuit_name}.{node_name}.V\",\n",
    "                    (10. if node_name == circuit.source_node else 0.1)\n",
    "                )\n",
    "            p.run_model()\n",
    "            print(f\"  + Successfully ran {idx}!\\n\")\n",
    "        except Exception as exc:\n",
    "            print(f\"  ! Failed to run {idx}!\")\n",
    "    except Exception as exc:\n",
    "        print(f\"  ! Failed to setup {idx}!\")\n",
    "        # print(traceback.format_exc())\n",
    "    if RUN_BASELINE:\n",
    "        break"
   ]
  },
  {
   "cell_type": "code",
   "execution_count": 22,
   "id": "a7c236b3-dcc8-4c97-b51e-5762fd642ae7",
   "metadata": {},
   "outputs": [
    {
     "name": "stdout",
     "output_type": "stream",
     "text": [
      "11 Input(s) in 'model'\n",
      "\n",
      "varname      val         \n",
      "-----------  ------------\n",
      "circuit_0\n",
      "  R2\n",
      "    V_in     [9.90804735]\n",
      "    V_out    [0.71278185]\n",
      "  D1\n",
      "    V_in     [0.71278185]\n",
      "    V_out    [0.]        \n",
      "  R1\n",
      "    V_in     [9.90804735]\n",
      "    V_out    [0.]        \n",
      "  node_0\n",
      "    I_in:0   [0.1]       \n",
      "    I_out:0  [0.09908047]\n",
      "    I_out:1  [0.00091953]\n",
      "  node_2\n",
      "    I_in:0   [0.00091953]\n",
      "    I_out:0  [0.00091953]\n",
      "\n",
      "\n"
     ]
    },
    {
     "data": {
      "text/plain": [
       "[('circuit_0.R2.V_in', {'val': array([9.90804735])}),\n",
       " ('circuit_0.R2.V_out', {'val': array([0.71278185])}),\n",
       " ('circuit_0.D1.V_in', {'val': array([0.71278185])}),\n",
       " ('circuit_0.D1.V_out', {'val': array([0.])}),\n",
       " ('circuit_0.R1.V_out', {'val': array([0.])}),\n",
       " ('circuit_0.R1.V_in', {'val': array([9.90804735])}),\n",
       " ('circuit_0.node_0.I_in:0', {'val': array([0.1])}),\n",
       " ('circuit_0.node_0.I_out:0', {'val': array([0.09908047])}),\n",
       " ('circuit_0.node_0.I_out:1', {'val': array([0.00091953])}),\n",
       " ('circuit_0.node_2.I_in:0', {'val': array([0.00091953])}),\n",
       " ('circuit_0.node_2.I_out:0', {'val': array([0.00091953])})]"
      ]
     },
     "execution_count": 22,
     "metadata": {},
     "output_type": "execute_result"
    }
   ],
   "source": [
    "p.model.list_inputs()"
   ]
  },
  {
   "cell_type": "code",
   "execution_count": 23,
   "id": "397767c6-d841-45b4-a9b9-2fb4c4cd2021",
   "metadata": {},
   "outputs": [
    {
     "name": "stdout",
     "output_type": "stream",
     "text": [
      "0\n"
     ]
    },
    {
     "data": {
      "text/html": [
       "\n",
       "        <iframe\n",
       "            width=\"1000\"\n",
       "            height=\"1000\"\n",
       "            src=\"connections.html\"\n",
       "            frameborder=\"0\"\n",
       "            allowfullscreen\n",
       "        ></iframe>\n",
       "        "
      ],
      "text/plain": [
       "<IPython.lib.display.IFrame at 0x29e39cb8ca0>"
      ]
     },
     "metadata": {},
     "output_type": "display_data"
    }
   ],
   "source": [
    "print(idx)\n",
    "om.view_connections(p)"
   ]
  },
  {
   "cell_type": "code",
   "execution_count": 24,
   "id": "84b83e84-c4cd-482b-866b-eacd795244ba",
   "metadata": {},
   "outputs": [
    {
     "data": {
      "text/html": [
       "\n",
       "        <iframe\n",
       "            width=\"100%\"\n",
       "            height=\"700\"\n",
       "            src=\"n2.html\"\n",
       "            frameborder=\"0\"\n",
       "            allowfullscreen\n",
       "        ></iframe>\n",
       "        "
      ],
      "text/plain": [
       "<IPython.lib.display.IFrame at 0x29e39cbb1f0>"
      ]
     },
     "metadata": {},
     "output_type": "display_data"
    }
   ],
   "source": [
    "om.n2(p)"
   ]
  }
 ],
 "metadata": {
  "kernelspec": {
   "display_name": "Python 3 (ipykernel)",
   "language": "python",
   "name": "python3"
  },
  "language_info": {
   "codemirror_mode": {
    "name": "ipython",
    "version": 3
   },
   "file_extension": ".py",
   "mimetype": "text/x-python",
   "name": "python",
   "nbconvert_exporter": "python",
   "pygments_lexer": "ipython3",
   "version": "3.9.6"
  }
 },
 "nbformat": 4,
 "nbformat_minor": 5
}
