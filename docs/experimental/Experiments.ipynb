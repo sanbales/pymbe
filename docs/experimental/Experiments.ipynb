{
 "cells": [
  {
   "cell_type": "markdown",
   "source": [
    "# Tutorial & Widget Experiments\n",
    "\n",
    "> This notebook is primarily being used to experiment with how to use the `pymbe` widgets.\n",
    ">\n",
    "> It should be fairly \"clean\" until the `Scratch Pad` section.\n",
    ">\n",
    "\n",
    "In the future, this notebook will be cleaned up and renamed \"Tutorial\"."
   ],
   "metadata": {}
  },
  {
   "cell_type": "markdown",
   "source": [
    "## 1. Import `pymbe` and create a new user interface"
   ],
   "metadata": {}
  },
  {
   "cell_type": "code",
   "execution_count": null,
   "source": [
    "import pymbe.api as pm"
   ],
   "outputs": [],
   "metadata": {}
  },
  {
   "cell_type": "code",
   "execution_count": null,
   "source": [
    "pm.UI.new(host_url=\"http://sysml2.intercax.com\")"
   ],
   "outputs": [],
   "metadata": {
    "tags": []
   }
  },
  {
   "cell_type": "markdown",
   "source": [
    "## 2. Use the widget\n",
    "...or automatically load the `Kerbal` model using the cell below by:"
   ],
   "metadata": {}
  },
  {
   "cell_type": "markdown",
   "source": [
    "1. Grabbing the individual widgets\n",
    "> and view the log for the Diagram of the Labelled Property Graph"
   ],
   "metadata": {}
  },
  {
   "cell_type": "code",
   "execution_count": null,
   "source": [
    "ui, *_ = _.children\n",
    "client, tree, inspector, lpg, *interpreter = ui.children"
   ],
   "outputs": [],
   "metadata": {
    "tags": []
   }
  },
  {
   "cell_type": "markdown",
   "source": [
    "2. load a small model from a file or the big model from the internet"
   ],
   "metadata": {}
  },
  {
   "cell_type": "code",
   "execution_count": null,
   "source": [
    "USE_FILE = False\n",
    "\n",
    "if USE_FILE:\n",
    "    # client._load_from_file(\"../tests/fixtures/2a-Parts Interconnection.json\")\n",
    "    # client._load_from_file(\"../tests/fixtures/12b-Allocation.json\")\n",
    "    client._load_from_file(\"../tests/fixtures/Kerbal.json\")\n",
    "else:\n",
    "    kerbal_project = [name for name in client.project_selector.options if name.startswith(\"Kerbal\")]\n",
    "    if kerbal_project:\n",
    "        client.project_selector.value = client.project_selector.options[kerbal_project[-1]]\n",
    "        client._download_elements()"
   ],
   "outputs": [],
   "metadata": {}
  },
  {
   "cell_type": "markdown",
   "source": [
    "4. Click load"
   ],
   "metadata": {}
  },
  {
   "cell_type": "code",
   "execution_count": null,
   "source": [
    "lpg.diagram.toolbar.refresh_diagram.click()"
   ],
   "outputs": [],
   "metadata": {}
  },
  {
   "cell_type": "markdown",
   "source": [
    "# Download with what is in the client"
   ],
   "metadata": {}
  },
  {
   "cell_type": "code",
   "execution_count": null,
   "source": [
    "import json\n",
    "from pathlib import Path\n",
    "\n",
    "kerbal_file = Path(\"../tests/fixtures/Kerbal.json\")\n",
    "kerbal_file.unlink()\n",
    "\n",
    "kerbal_file.write_text(json.dumps(list(client.elements_by_id.values()), indent=2))"
   ],
   "outputs": [],
   "metadata": {}
  },
  {
   "cell_type": "code",
   "execution_count": null,
   "source": [
    "lpg.id_mapper = lpg._make_id_mapper()"
   ],
   "outputs": [],
   "metadata": {}
  },
  {
   "cell_type": "code",
   "execution_count": null,
   "source": [
    "lpg.diagram.view.selection.ids"
   ],
   "outputs": [],
   "metadata": {}
  },
  {
   "cell_type": "code",
   "execution_count": null,
   "source": [
    "lpg.id_mapper.get('cefe44fd-fae9-44c8-8465-c30b717e43ab')"
   ],
   "outputs": [],
   "metadata": {}
  },
  {
   "cell_type": "code",
   "execution_count": null,
   "source": [
    "pipe = lpg.diagram.pipe\n",
    "\n",
    "pipe.inlet.flow, pipe.outlet.flow, pipe.observes"
   ],
   "outputs": [],
   "metadata": {}
  },
  {
   "cell_type": "code",
   "execution_count": null,
   "source": [
    "print(lpg.diagram.pipe.disposition)\n",
    "for pipe in lpg.diagram.pipe.pipes:\n",
    "    print(pipe.__class__, pipe.disposition)"
   ],
   "outputs": [],
   "metadata": {}
  },
  {
   "cell_type": "markdown",
   "source": [
    "# Intepretation Diagram\n",
    "\n",
    "1. [ ] Get the id of the interpretation, which is a connection usage, and retrieve that element\n",
    "2. [ ] Look at the `connectorEnd[:2]` and retrieve interpretations for them"
   ],
   "metadata": {}
  },
  {
   "cell_type": "markdown",
   "source": [
    "# Add all implied edges"
   ],
   "metadata": {}
  },
  {
   "cell_type": "code",
   "execution_count": null,
   "source": [
    "from pymbe.interpretation.calc_dependencies import *\n",
    "from pymbe.interpretation.interp_playbooks import random_generator_playbook\n",
    "\n",
    "instances = random_generator_playbook(m1=lpg)\n",
    "pairs = generate_execution_order(lpg=lpg, instance_dict=instances)"
   ],
   "outputs": [],
   "metadata": {}
  },
  {
   "cell_type": "code",
   "execution_count": null,
   "source": [
    "from pymbe.graph.calc_lpg import *\n",
    "\n",
    "group = CalculationGroup(lpg.get_projection(\"Expression Inferred Graph\"), instances, pairs)"
   ],
   "outputs": [],
   "metadata": {}
  },
  {
   "cell_type": "code",
   "execution_count": null,
   "source": [
    "group.solve_graph(lpg)"
   ],
   "outputs": [],
   "metadata": {}
  },
  {
   "cell_type": "code",
   "execution_count": null,
   "source": [
    "instances[\"1e5a0ed7-8b41-4ab4-a433-8f7eedd75833\"]"
   ],
   "outputs": [],
   "metadata": {}
  },
  {
   "cell_type": "code",
   "execution_count": null,
   "source": [
    "lpg.elements_by_id = {**lpg.elements_by_id, **lpg.get_implied_elements()}"
   ],
   "outputs": [],
   "metadata": {}
  },
  {
   "cell_type": "markdown",
   "source": [
    "...or you can directly adapt the graph and invert edges"
   ],
   "metadata": {}
  },
  {
   "cell_type": "code",
   "execution_count": null,
   "source": [
    "import data_loader"
   ],
   "outputs": [],
   "metadata": {}
  },
  {
   "cell_type": "code",
   "execution_count": null,
   "source": [
    "from pymbe.client import SysML2Client\n",
    "from pathlib import Path\n",
    "\n",
    "\n",
    "def kerbal_model_loaded_client() -> SysML2Client:\n",
    "    helper_client = SysML2Client()\n",
    "    helper_client._load_from_file(Path(data_loader.__file__).parent / \"data\" / \"Kerbal\" / \"elements.json\")\n",
    "    return helper_client\n",
    "\n",
    "model = kerbal_model_loaded_client()"
   ],
   "outputs": [],
   "metadata": {}
  },
  {
   "cell_type": "code",
   "execution_count": null,
   "source": [
    "model"
   ],
   "outputs": [],
   "metadata": {}
  },
  {
   "cell_type": "code",
   "execution_count": null,
   "source": [
    "os.listdir()"
   ],
   "outputs": [],
   "metadata": {}
  },
  {
   "cell_type": "code",
   "execution_count": null,
   "source": [
    "from tests.interpretation.test_playbook_phases import *"
   ],
   "outputs": [],
   "metadata": {}
  },
  {
   "cell_type": "code",
   "execution_count": null,
   "source": [
    "import os\n",
    "\n",
    "os.chdir(\"tests/\")"
   ],
   "outputs": [],
   "metadata": {}
  },
  {
   "cell_type": "code",
   "execution_count": null,
   "source": [
    "from interpretation.test_playbook_phases import kerbal_client\n",
    "\n",
    "test_client = kerbal_client()"
   ],
   "outputs": [],
   "metadata": {}
  },
  {
   "cell_type": "code",
   "execution_count": null,
   "source": [
    "client.elements_by_type"
   ],
   "outputs": [],
   "metadata": {}
  },
  {
   "cell_type": "markdown",
   "source": [
    "# Add RDF Capabilities with `ipyradiant`"
   ],
   "metadata": {}
  },
  {
   "cell_type": "code",
   "execution_count": null,
   "source": [
    "import traitlets as trt\n",
    "from ipyradiant.visualization import CytoscapeViewer, InteractiveViewer\n",
    "from pymbe.graph.rdf import SysML2RDFGraph"
   ],
   "outputs": [],
   "metadata": {}
  },
  {
   "cell_type": "code",
   "execution_count": null,
   "source": [
    "rdf = SysML2RDFGraph()\n",
    "trt.link((lpg, \"elements_by_id\"), (rdf, \"elements_by_id\"))"
   ],
   "outputs": [],
   "metadata": {}
  },
  {
   "cell_type": "code",
   "execution_count": null,
   "source": [
    "rdf.graph.namespace_manager.bind(\"purl\", 'http://purl.org/dc/terms/identifier')"
   ],
   "outputs": [],
   "metadata": {}
  },
  {
   "cell_type": "code",
   "execution_count": null,
   "source": [
    "InteractiveViewer(rdf_graph=rdf.graph)"
   ],
   "outputs": [],
   "metadata": {}
  },
  {
   "cell_type": "code",
   "execution_count": null,
   "source": [
    "from rdflib import Graph\n",
    "\n",
    "g = Graph()\n",
    "triples = list(rdf.graph.triples([None, None, None]))[1000:]\n",
    "g.addN([[*triples, \"SysMLv2\"] for triple in triples])"
   ],
   "outputs": [],
   "metadata": {}
  },
  {
   "cell_type": "code",
   "execution_count": null,
   "source": [
    "%debug"
   ],
   "outputs": [],
   "metadata": {}
  },
  {
   "cell_type": "code",
   "execution_count": null,
   "source": [
    "import ipywidgets as ipyw\n",
    "\n",
    "file_uploader = ipyw.FileUpload(\n",
    "    accept='*.json',  # Accepted file extension e.g. '.txt', '.pdf', 'image/*', 'image/*,.pdf'\n",
    "    multiple=False,   # True to accept multiple files upload else False\n",
    ")\n",
    "file_uploader"
   ],
   "outputs": [],
   "metadata": {}
  },
  {
   "cell_type": "code",
   "execution_count": null,
   "source": [
    "import requests\n",
    "\n",
    "resp = requests.get(client.elements_url)\n"
   ],
   "outputs": [],
   "metadata": {}
  },
  {
   "cell_type": "code",
   "execution_count": null,
   "source": [
    "import json\n",
    "from pathlib import Path\n",
    "\n",
    "projects = {\n",
    "    name.split(\" (2021\")[0]: project_id\n",
    "    for name, project_id in client.project_selector.options.items()\n",
    "}\n",
    "projects\n",
    "\n",
    "\n",
    "for name, project_id in projects.items():\n",
    "    try:\n",
    "        client.selected_project = project_id\n",
    "        data = client._get_elements_from_server()\n",
    "        with Path(f\"{name}.json\") as f:\n",
    "            f.write_text(json.dumps(data))\n",
    "        print(f\"Downloaded {name}, commit: {client.selected_commit}\")\n",
    "    except:\n",
    "        print(f\"Failed to download: {name}...\")"
   ],
   "outputs": [],
   "metadata": {}
  },
  {
   "cell_type": "code",
   "execution_count": null,
   "source": [
    "for id_, el in rdf.elements_by_id.items():\n",
    "    context = el.get(\"@context\")\n",
    "    if context:\n",
    "        print(f\"{id_}: has context ({context})\")\n",
    "    else:\n",
    "        print(f\"{id_} has no context\")"
   ],
   "outputs": [],
   "metadata": {}
  },
  {
   "cell_type": "markdown",
   "source": [
    "# Interpretation\n",
    "\n",
    "> This is where we are refactoring the $M_0$ interpretation..."
   ],
   "metadata": {}
  },
  {
   "cell_type": "code",
   "execution_count": null,
   "source": [
    "lpg.sysml_projections[\"Complete\"][\"description\"]"
   ],
   "outputs": [],
   "metadata": {}
  },
  {
   "cell_type": "code",
   "execution_count": null,
   "source": [
    "def safe_get(data: dict, *keys, default=None):\n",
    "    for key in keys:\n",
    "        if key not in data:\n",
    "            return default\n",
    "        data = data[key]\n",
    "    return data\n",
    "\n",
    "safe_get(lpg.elements_by_id, \"cb4386fe-67d9-4743-995f-5d4a4162e26e\", \"owner\", \"@id\")"
   ],
   "outputs": [],
   "metadata": {}
  },
  {
   "cell_type": "code",
   "execution_count": null,
   "source": [
    "UNSPECIFIED = object()\n",
    "\n",
    "class SafeDict(dict):\n",
    "\n",
    "    def __init__(self, *args, default=None, **kwargs):\n",
    "        self.__default__ = default or {}\n",
    "        super().__init__(*args, **kwargs)\n",
    "        for key, value in self.items():\n",
    "            self[key] = SafeDict.__convert(value)\n",
    "\n",
    "    def __setitem__(self, k, v):\n",
    "        dict.__setitem__(self, k, SafeDict.__convert(v))\n",
    "\n",
    "    def get(self, item, default=None):\n",
    "        return super().get(item, default) or self.__default__\n",
    "\n",
    "    @staticmethod\n",
    "    def __convert(o):\n",
    "        \"\"\"\n",
    "        Recursively convert `dict` objects in `dict`, `list`, `set`, and\n",
    "        `tuple` objects to `attrdict` objects.\n",
    "        \"\"\"\n",
    "        if isinstance(o, dict):\n",
    "            o = SafeDict(o)\n",
    "        elif isinstance(o, list):\n",
    "            o = list(SafeDict.__convert(v) for v in o)\n",
    "        elif isinstance(o, set):\n",
    "            o = set(SafeDict.__convert(v) for v in o)\n",
    "        elif isinstance(o, tuple):\n",
    "            o = tuple(SafeDict.__convert(v) for v in o)\n",
    "        return o\n",
    "\n",
    "\n",
    "a = SafeDict(dict(agh=1, bum=2, bar=3, baz=dict(bar=2,baz=dict(bar=3,baz=4))))\n",
    "a[\"as\"] = \"if\"\n",
    "a.get(\"as\"), type(a.get(\"baz\")), a.get(\"baz\")"
   ],
   "outputs": [],
   "metadata": {}
  },
  {
   "cell_type": "code",
   "execution_count": null,
   "source": [
    "from pymbe.interpretation import *\n",
    "\n",
    "def roll_up_upper_multiplicities(lpg):\n",
    "    banded_featuring_graph = make_banded_featuring_graph(lpg)\n",
    "\n",
    "    banded_roots = [\n",
    "        banded_featuring_graph.nodes[node]\n",
    "        for node in banded_featuring_graph\n",
    "        if banded_featuring_graph.out_degree(node) == 0\n",
    "    ]\n",
    "    \n",
    "    for part_usage in \n",
    "\n",
    "elements = lpg.elements_by_id\n",
    "\n",
    "features = [\n",
    "    id_\n",
    "    for id_, data in elements.items()\n",
    "    if data[\"@type\"] == \"Feature\"\n",
    "]\n",
    "\n",
    "for feature in features:\n",
    "    upper_multiplicity = get_feature_upper_multiplicity(elements, feature)\n",
    "    if upper_multiplicity:\n",
    "        print(elements[feature][\"qualifiedName\"], upper_multiplicity)"
   ],
   "outputs": [],
   "metadata": {
    "tags": []
   }
  },
  {
   "cell_type": "markdown",
   "source": [
    "# Troubleshooting"
   ],
   "metadata": {}
  },
  {
   "cell_type": "markdown",
   "source": [
    "## Fix linking issue with diagram element selector"
   ],
   "metadata": {}
  },
  {
   "cell_type": "code",
   "execution_count": null,
   "source": [
    "self = lpg.diagram\n",
    "\n",
    "lpg.selected, self.selected, self.elk_app.diagram.selected"
   ],
   "outputs": [],
   "metadata": {}
  },
  {
   "cell_type": "code",
   "execution_count": null,
   "source": [
    "self.id_mapper.get(*self.elk_app.diagram.selected)"
   ],
   "outputs": [],
   "metadata": {}
  },
  {
   "cell_type": "code",
   "execution_count": null,
   "source": [
    "self._make_id_mapper()"
   ],
   "outputs": [],
   "metadata": {}
  },
  {
   "cell_type": "code",
   "execution_count": null,
   "source": [
    "self = lpg\n",
    "\n",
    "self._update_diagram_graph(button=self.filter_to_path)"
   ],
   "outputs": [],
   "metadata": {}
  },
  {
   "cell_type": "code",
   "execution_count": null,
   "source": [
    "directed = self.path_directionality.value\n",
    "new_graph = self._get_subgraph(\n",
    "            excluded_edge_types=self.excluded_edge_types,\n",
    "            excluded_node_types=self.excluded_node_types,\n",
    "            reversed_edge_types=self.edge_type_reverser.value,\n",
    "        )\n",
    "\n",
    "source, target = self.selected\n",
    "new_graph = self.get_path_graph(\n",
    "    graph=new_graph,\n",
    "    source=source,\n",
    "    target=target,\n",
    "    directed=directed,\n",
    ")\n",
    "len(new_graph)"
   ],
   "outputs": [],
   "metadata": {}
  },
  {
   "cell_type": "code",
   "execution_count": null,
   "source": [
    "self.diagram.graph = new_graph"
   ],
   "outputs": [],
   "metadata": {}
  },
  {
   "cell_type": "code",
   "execution_count": null,
   "source": [
    "import traitlets as trt\n",
    "\n",
    "\n",
    "self.diagram._update_diagram(trt.Bunch(old=None))"
   ],
   "outputs": [],
   "metadata": {}
  },
  {
   "cell_type": "code",
   "execution_count": null,
   "source": [
    "len(self.diagram.compound(self.diagram.container)[0])"
   ],
   "outputs": [],
   "metadata": {}
  },
  {
   "cell_type": "code",
   "execution_count": null,
   "source": [
    "from dataclasses import dataclass, field\n",
    "\n",
    "@dataclass\n",
    "class Mapper:\n",
    "    to_map: dict = field(repr=False)\n",
    "    from_map: dict = field(default=None, repr=False)\n",
    "\n",
    "    def __repr__(self):\n",
    "        return f\"Mapper({len(self.to_map)} Items)\"\n",
    "\n",
    "    def __post_init__(self, *args, **kwargs):\n",
    "        self.from_map = {v: k for k, v in self.to_map.items()}\n",
    "\n",
    "    def get(self, *items):\n",
    "        found = [\n",
    "            self.to_map.get(item, self.from_map.get(item))\n",
    "            for item in items\n",
    "        ]\n",
    "        return [\n",
    "            item\n",
    "            for item in found\n",
    "            if item is not None\n",
    "        ]\n",
    "    \n",
    "    def __len__(self):\n",
    "        return len(self.to_map)\n",
    "\n",
    "if Mapper({}):\n",
    "    print(\"ahh\")"
   ],
   "outputs": [],
   "metadata": {}
  },
  {
   "cell_type": "code",
   "execution_count": null,
   "source": [],
   "outputs": [],
   "metadata": {}
  },
  {
   "cell_type": "markdown",
   "source": [
    "---------------------"
   ],
   "metadata": {}
  },
  {
   "cell_type": "code",
   "execution_count": null,
   "source": [
    "self = lpg.diagram\n",
    "import networkx as nx\n",
    "\n",
    "_, hierarchy = self.elk_app.transformer.source\n",
    "\n",
    "try:\n",
    "    item = lpg.diagram.elk_app.selected[0]\n",
    "    res = next(hierarchy.predecessors(item)).node\n",
    "except nx.NetworkXError:\n",
    "    res = item.data.get(\"properties\", {}).get(\"@id\")\n",
    "\n",
    "res.id, res.data[\"@id\"]"
   ],
   "outputs": [],
   "metadata": {}
  },
  {
   "cell_type": "code",
   "execution_count": null,
   "source": [
    "tree.selected, explorer.selected, lpg.selected"
   ],
   "outputs": [],
   "metadata": {}
  },
  {
   "cell_type": "code",
   "execution_count": null,
   "source": [
    "lpg.diagram.elk_app.diagram.selected"
   ],
   "outputs": [],
   "metadata": {}
  },
  {
   "cell_type": "code",
   "execution_count": null,
   "source": [
    "lpg.selected"
   ],
   "outputs": [],
   "metadata": {}
  },
  {
   "cell_type": "code",
   "execution_count": null,
   "source": [
    "self = lpg.diagram\n",
    "\n",
    "_, hierarchy = self.elk_transformer.source\n",
    "\n",
    "self.parts[self.selected[0]], self.elk_app.selected[0]\n",
    "\n",
    "for selected_id in self.selected:\n",
    "    node_selected = self.parts.get(selected_id)\n",
    "    print(node_selected.id)"
   ],
   "outputs": [],
   "metadata": {
    "tags": []
   }
  },
  {
   "cell_type": "code",
   "execution_count": null,
   "source": [
    "node_selected.children[0] == self.elk_app.selected[0].node"
   ],
   "outputs": [],
   "metadata": {}
  },
  {
   "cell_type": "markdown",
   "source": [
    "---------------"
   ],
   "metadata": {}
  },
  {
   "cell_type": "code",
   "execution_count": null,
   "source": [
    "from dataclasses import dataclass, field\n",
    "\n",
    "\n",
    "@dataclass\n",
    "class Mapper:\n",
    "    to_map: dict = field(repr=False)\n",
    "    from_map: dict = field(default=None, repr=False)\n",
    "        \n",
    "    def __repr__(self):\n",
    "        return f\"Mapper({len(self.to_map)} Items)\"\n",
    "\n",
    "    def __post_init__(self, *args, **kwargs):\n",
    "        self.from_map = {v: k for k, v in self.to_map.items()}\n",
    "\n",
    "    def get(self, *items):\n",
    "        found = [\n",
    "            self.to_map.get(item, self.from_map.get(item))\n",
    "            for item in items\n",
    "        ]\n",
    "        if len(found) < 2:\n",
    "            found = found[0]\n",
    "        return found\n",
    "\n",
    "mapper = Mapper(from_elk_id)\n",
    "\n",
    "mapper.get(*self.elk_app.diagram.selected)"
   ],
   "outputs": [],
   "metadata": {}
  },
  {
   "cell_type": "code",
   "execution_count": null,
   "source": [
    "a = {1,2,}\n",
    "a.symmetric_difference"
   ],
   "outputs": [],
   "metadata": {}
  },
  {
   "cell_type": "code",
   "execution_count": null,
   "source": [
    "self = lpg.diagram"
   ],
   "outputs": [],
   "metadata": {}
  },
  {
   "cell_type": "code",
   "execution_count": null,
   "source": [
    "relationships, hierarchy = self.elk_app.transformer.source"
   ],
   "outputs": [],
   "metadata": {}
  },
  {
   "cell_type": "code",
   "execution_count": null,
   "source": [
    "transformer = self.elk_app.transformer\n",
    "relationships, hierarchy = transformer.source\n",
    "\n",
    "import ipyelk\n",
    "from ipyelk.contrib.elements import (\n",
    "    Compartment,\n",
    ")\n",
    "\n",
    "def id_from_item(item):\n",
    "    id_ = None\n",
    "    if isinstance(item, ipyelk.transform.Edge):\n",
    "        id_ = item.data.get(\"properties\", {}).get(\"@id\")\n",
    "    elif isinstance(getattr(item, \"node\", None), Compartment):\n",
    "        id_ = next(hierarchy.predecessors(item)).node.id\n",
    "    if id_ is None:\n",
    "        self.log.debug(f\"Could not parse: {item}\")\n",
    "    return id_\n",
    "\n",
    "from_elk_id = {\n",
    "    elk_id: id_from_item(elk_item)\n",
    "    for elk_id, elk_item in transformer._elk_to_item.items()\n",
    "}\n",
    "\n",
    "from_elk_id = {\n",
    "    elk_id: sysml_id\n",
    "    for elk_id, sysml_id in from_elk_id.items()\n",
    "    if sysml_id is not None\n",
    "}\n",
    "found_ids = set(from_elk_id.values())\n",
    "\n",
    "for extra in set(lpg.elements_by_id).symmetric_difference(found_ids):\n",
    "    print(lpg.elements_by_id[extra])\n",
    "\n",
    "\n"
   ],
   "outputs": [],
   "metadata": {}
  },
  {
   "cell_type": "code",
   "execution_count": null,
   "source": [
    "transformer.from_id(\"61bd9433-3eec-47f7-af7e-3bf71f19071b\").node"
   ],
   "outputs": [],
   "metadata": {}
  },
  {
   "cell_type": "code",
   "execution_count": null,
   "source": [
    "missing = [elk_id for elk_id, our_id in from_elk_id.items() if our_id is None]\n",
    "lpg.diagram.elk_app.diagram.selected = missing"
   ],
   "outputs": [],
   "metadata": {}
  },
  {
   "cell_type": "code",
   "execution_count": null,
   "source": [
    "from_elk_id"
   ],
   "outputs": [],
   "metadata": {}
  },
  {
   "cell_type": "markdown",
   "source": [
    "# Scratch Pad\n",
    "> **WARNING**: Anything below this point is just for experimentation purposes"
   ],
   "metadata": {}
  },
  {
   "cell_type": "markdown",
   "source": [
    "## RDF Experiments"
   ],
   "metadata": {}
  },
  {
   "cell_type": "code",
   "execution_count": null,
   "source": [
    "def process_edge(source, target, edge_type, data=None):\n",
    "    if edge_type in (\"FeatureTyping\", \"FeatureMembership\"):\n",
    "        source, target = target, source\n",
    "    return [source, target, data]\n",
    "\n",
    "graph = nx.DiGraph()\n",
    "graph.add_edges_from([\n",
    "    process_edge(source, target, edge_type, data)\n",
    "    for (source, target, edge_type), data in dict(client.lpg.graph.edges).items()\n",
    "    if edge_type in (\"Superclassing\", \"FeatureTyping\", \"FeatureMembership\")\n",
    "])\n",
    "graph"
   ],
   "outputs": [],
   "metadata": {}
  },
  {
   "cell_type": "code",
   "execution_count": null,
   "source": [
    "diagram.graph = graph"
   ],
   "outputs": [],
   "metadata": {}
  },
  {
   "cell_type": "code",
   "execution_count": null,
   "source": [
    "diagram = client.lpg.make_diagram(\n",
    "    graph=client.lpg.subgraph(edge_types=(\"Superclassing\", \"FeatureTyping^-1\", \"FeatureMembership^-1\"))\n",
    ")\n",
    "elk_app, *_ = diagram.children\n",
    "diagram"
   ],
   "outputs": [],
   "metadata": {}
  },
  {
   "cell_type": "code",
   "execution_count": null,
   "source": [
    "# Select the root node in the diagram...\n",
    "# ... or you can manually select one yourself\n",
    "elk_app.selected = \"5260380b-6fda-43cc-993f-5df58868edbb\","
   ],
   "outputs": [],
   "metadata": {}
  },
  {
   "cell_type": "code",
   "execution_count": null,
   "source": [
    "first_element_selected, *_ = elk_app.selected\n",
    "client.elements_by_id[first_element_selected]"
   ],
   "outputs": [],
   "metadata": {
    "tags": []
   }
  },
  {
   "cell_type": "markdown",
   "source": [
    "# Parse JSON-LD into RDF"
   ],
   "metadata": {}
  },
  {
   "cell_type": "code",
   "execution_count": null,
   "source": [
    "import rdflib\n",
    "from rdflib.extras.external_graph_libs import rdflib_to_networkx_multidigraph\n",
    "import networkx as nx\n",
    "import matplotlib.pyplot as plt\n",
    "\n",
    "result = client.rdf.graph\n",
    "# result = g.parse(url, format='turtle')\n",
    "\n",
    "G = rdflib_to_networkx_multidigraph(result)\n",
    "\n",
    "# Plot Networkx instance of RDF Graph\n",
    "pos = nx.spring_layout(G, scale=2)\n",
    "edge_labels = nx.get_edge_attributes(G, 'r')"
   ],
   "outputs": [],
   "metadata": {}
  },
  {
   "cell_type": "code",
   "execution_count": null,
   "source": [
    "ax = plt.figure(figsize=(50,30)).gca();\n",
    "nx.draw_networkx_edge_labels(G, pos, edge_labels=edge_labels, ax=ax)\n",
    "nx.draw(G, with_labels=True, ax=ax)"
   ],
   "outputs": [],
   "metadata": {}
  },
  {
   "cell_type": "markdown",
   "source": [
    "# TODOs\n",
    "1. Finish fleshing out the process in the `Kerbal Model.ipynb`\n",
    "2. Modify the subgraph generator so it can take the value from the `Type Selector` directly\n",
    "3. Improve the ipyelk diagram widget (may need to make improvements to `ipyelk`)\n",
    "   * Add arrows\n",
    "   * Add compartments\n",
    "   * Fix layout\n",
    "   * Add widget to see node details\n",
    "4. Finalize the RDF formulation"
   ],
   "metadata": {}
  }
 ],
 "metadata": {
  "kernelspec": {
   "display_name": "Python 3 (ipykernel)",
   "language": "python",
   "name": "python3"
  },
  "language_info": {
   "codemirror_mode": {
    "name": "ipython",
    "version": 3
   },
   "file_extension": ".py",
   "mimetype": "text/x-python",
   "name": "python",
   "nbconvert_exporter": "python",
   "pygments_lexer": "ipython3",
   "version": "3.9.5"
  }
 },
 "nbformat": 4,
 "nbformat_minor": 5
}