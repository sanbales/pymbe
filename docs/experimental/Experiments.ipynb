{
 "cells": [
  {
   "cell_type": "markdown",
   "id": "53953e23",
   "metadata": {},
   "source": [
    "# Tutorial & Widget Experiments\n",
    "\n",
    "> This notebook is primarily being used to experiment with how to use the `pymbe` widgets.\n",
    ">\n",
    "> It should be fairly \"clean\" until the `Scratch Pad` section.\n",
    ">\n",
    "\n",
    "In the future, this notebook will be cleaned up and renamed \"Tutorial\"."
   ]
  },
  {
   "cell_type": "markdown",
   "id": "564a74a7",
   "metadata": {},
   "source": [
    "## 1. Import `pymbe` and create a new user interface"
   ]
  },
  {
   "cell_type": "code",
   "execution_count": null,
   "id": "abf6c0c9",
   "metadata": {},
   "outputs": [],
   "source": [
    "import pymbe.api as pm"
   ]
  },
  {
   "cell_type": "code",
   "execution_count": null,
   "id": "6ef453b2",
   "metadata": {
    "tags": []
   },
   "outputs": [],
   "source": [
    "pm.UI.new(host_url=\"http://sysml2.intercax.com\")"
   ]
  },
  {
   "cell_type": "markdown",
   "id": "7de9fbf5",
   "metadata": {},
   "source": [
    "## 2. Use the widget\n",
    "...or automatically load the `Kerbal` model using the cell below by:"
   ]
  },
  {
   "cell_type": "markdown",
   "id": "b96e93fe",
   "metadata": {},
   "source": [
    "1. Grabbing the individual widgets\n",
    "> and view the log for the Diagram of the Labelled Property Graph"
   ]
  },
  {
   "cell_type": "code",
   "execution_count": null,
   "id": "78780b74",
   "metadata": {
    "tags": []
   },
   "outputs": [],
   "source": [
    "ui, *_ = _.children\n",
    "tree, inspector, m1_diagram, m0_diagram = ui.children"
   ]
  },
  {
   "cell_type": "markdown",
   "id": "3ec0eec5",
   "metadata": {},
   "source": [
    "2. load a small model from a file or the big model from the internet"
   ]
  },
  {
   "cell_type": "code",
   "execution_count": null,
   "id": "0c68cb03-5903-405c-af40-250dd7e25166",
   "metadata": {},
   "outputs": [],
   "source": [
    "client.project_selector.options"
   ]
  },
  {
   "cell_type": "code",
   "execution_count": null,
   "id": "4f588a94",
   "metadata": {},
   "outputs": [],
   "source": [
    "USE_FILE = False\n",
    "\n",
    "PROJECT_NAME = \"12b-Allocation\"\n",
    "\n",
    "if USE_FILE:\n",
    "    tree.model = pm.Model.load_from_file(FIXTURES / f\"{PROJECT_NAME}.json\")\n",
    "else:\n",
    "    client = tree.api_client\n",
    "    project_names = [name for name in client.project_selector.options if name.startswith(PROJECT_NAME)]\n",
    "    if project_names:\n",
    "        *_, last_project = project_names\n",
    "        client.project_selector.label = last_project\n",
    "        client.download_model.click()"
   ]
  },
  {
   "cell_type": "code",
   "execution_count": null,
   "id": "d48a0325",
   "metadata": {},
   "outputs": [],
   "source": [
    "m1_diagram.elk_diagram.toolbar.refresh_diagram.click()"
   ]
  },
  {
   "cell_type": "markdown",
   "id": "f48293c6",
   "metadata": {},
   "source": [
    "# Intepretation Diagram\n",
    "\n",
    "1. [ ] Get the id of the interpretation, which is a connection usage, and retrieve that element\n",
    "2. [ ] Look at the `connectorEnd[:2]` and retrieve interpretations for them"
   ]
  },
  {
   "cell_type": "markdown",
   "id": "a0beb149",
   "metadata": {},
   "source": [
    "# Add all implied edges"
   ]
  },
  {
   "cell_type": "code",
   "execution_count": null,
   "id": "a67dc6fc",
   "metadata": {},
   "outputs": [],
   "source": [
    "from pymbe.interpretation.calc_dependencies import *\n",
    "from pymbe.interpretation.interp_playbooks import random_generator_playbook\n",
    "\n",
    "instances = random_generator_playbook(m1=lpg)\n",
    "pairs = generate_execution_order(lpg=lpg, instance_dict=instances)"
   ]
  },
  {
   "cell_type": "code",
   "execution_count": null,
   "id": "acdac862",
   "metadata": {},
   "outputs": [],
   "source": [
    "from pymbe.graph.calc_lpg import *\n",
    "\n",
    "group = CalculationGroup(lpg.get_projection(\"Expression Inferred Graph\"), instances, pairs)"
   ]
  },
  {
   "cell_type": "code",
   "execution_count": null,
   "id": "2c26cb03",
   "metadata": {},
   "outputs": [],
   "source": [
    "group.solve_graph(lpg)"
   ]
  },
  {
   "cell_type": "code",
   "execution_count": null,
   "id": "4e82d3c5",
   "metadata": {},
   "outputs": [],
   "source": [
    "instances[\"1e5a0ed7-8b41-4ab4-a433-8f7eedd75833\"]"
   ]
  },
  {
   "cell_type": "code",
   "execution_count": null,
   "id": "a15f673a",
   "metadata": {},
   "outputs": [],
   "source": [
    "lpg.elements_by_id = {**lpg.elements_by_id, **lpg.get_implied_elements()}"
   ]
  },
  {
   "cell_type": "markdown",
   "id": "45917337",
   "metadata": {},
   "source": [
    "...or you can directly adapt the graph and invert edges"
   ]
  },
  {
   "cell_type": "code",
   "execution_count": null,
   "id": "bd5a8593",
   "metadata": {},
   "outputs": [],
   "source": [
    "import data_loader"
   ]
  },
  {
   "cell_type": "code",
   "execution_count": null,
   "id": "1f28b7a3",
   "metadata": {},
   "outputs": [],
   "source": [
    "from pymbe.client import APIClient\n",
    "from pathlib import Path\n",
    "\n",
    "\n",
    "def kerbal_model_loaded_client() -> APIClient:\n",
    "    helper_client = APIClient()\n",
    "    helper_client.model = pm.Model.load_from_file(Path(data_loader.__file__).parent / \"data\" / \"Kerbal\" / \"elements.json\")\n",
    "    return helper_client\n",
    "\n",
    "model = kerbal_model_loaded_client()"
   ]
  },
  {
   "cell_type": "code",
   "execution_count": null,
   "id": "03063c34",
   "metadata": {},
   "outputs": [],
   "source": [
    "model"
   ]
  },
  {
   "cell_type": "code",
   "execution_count": null,
   "id": "eed7aa2b",
   "metadata": {},
   "outputs": [],
   "source": [
    "os.listdir()"
   ]
  },
  {
   "cell_type": "code",
   "execution_count": null,
   "id": "ab2ff200",
   "metadata": {},
   "outputs": [],
   "source": [
    "from tests.interpretation.test_playbook_phases import *"
   ]
  },
  {
   "cell_type": "code",
   "execution_count": null,
   "id": "5d3cadae",
   "metadata": {},
   "outputs": [],
   "source": [
    "import os\n",
    "\n",
    "os.chdir(\"tests/\")"
   ]
  },
  {
   "cell_type": "code",
   "execution_count": null,
   "id": "5a9d76b0",
   "metadata": {},
   "outputs": [],
   "source": [
    "from interpretation.test_playbook_phases import kerbal_client\n",
    "\n",
    "test_client = kerbal_client()"
   ]
  },
  {
   "cell_type": "code",
   "execution_count": null,
   "id": "dfefc88b",
   "metadata": {},
   "outputs": [],
   "source": [
    "client.elements_by_type"
   ]
  },
  {
   "cell_type": "markdown",
   "id": "3652f29a",
   "metadata": {},
   "source": [
    "# Add RDF Capabilities with `ipyradiant`"
   ]
  },
  {
   "cell_type": "code",
   "execution_count": null,
   "id": "a388fb56",
   "metadata": {},
   "outputs": [],
   "source": [
    "import traitlets as trt\n",
    "from ipyradiant.visualization import CytoscapeViewer, InteractiveViewer\n",
    "from pymbe.graph.rdf import SysML2RDFGraph"
   ]
  },
  {
   "cell_type": "code",
   "execution_count": null,
   "id": "d6e31457",
   "metadata": {},
   "outputs": [],
   "source": [
    "rdf = SysML2RDFGraph()\n",
    "trt.link((lpg, \"elements_by_id\"), (rdf, \"elements_by_id\"))"
   ]
  },
  {
   "cell_type": "code",
   "execution_count": null,
   "id": "df9ebf83",
   "metadata": {},
   "outputs": [],
   "source": [
    "rdf.graph.namespace_manager.bind(\"purl\", 'http://purl.org/dc/terms/identifier')"
   ]
  },
  {
   "cell_type": "code",
   "execution_count": null,
   "id": "c0827e95",
   "metadata": {},
   "outputs": [],
   "source": [
    "InteractiveViewer(rdf_graph=rdf.graph)"
   ]
  },
  {
   "cell_type": "code",
   "execution_count": null,
   "id": "c2381f9c",
   "metadata": {},
   "outputs": [],
   "source": [
    "from rdflib import Graph\n",
    "\n",
    "g = Graph()\n",
    "triples = list(rdf.graph.triples([None, None, None]))[1000:]\n",
    "g.addN([[*triples, \"SysMLv2\"] for triple in triples])"
   ]
  },
  {
   "cell_type": "code",
   "execution_count": null,
   "id": "1631c984",
   "metadata": {},
   "outputs": [],
   "source": [
    "%debug"
   ]
  },
  {
   "cell_type": "code",
   "execution_count": null,
   "id": "7899a5b7",
   "metadata": {},
   "outputs": [],
   "source": [
    "import ipywidgets as ipyw\n",
    "\n",
    "file_uploader = ipyw.FileUpload(\n",
    "    accept='*.json',  # Accepted file extension e.g. '.txt', '.pdf', 'image/*', 'image/*,.pdf'\n",
    "    multiple=False,   # True to accept multiple files upload else False\n",
    ")\n",
    "file_uploader"
   ]
  },
  {
   "cell_type": "code",
   "execution_count": null,
   "id": "7e710be9",
   "metadata": {},
   "outputs": [],
   "source": [
    "import requests\n",
    "\n",
    "resp = requests.get(client.elements_url)\n"
   ]
  },
  {
   "cell_type": "code",
   "execution_count": null,
   "id": "e29a15fc",
   "metadata": {},
   "outputs": [],
   "source": [
    "import json\n",
    "from pathlib import Path\n",
    "\n",
    "projects = {\n",
    "    name.split(\" (2021\")[0]: project_id\n",
    "    for name, project_id in client.project_selector.options.items()\n",
    "}\n",
    "projects\n",
    "\n",
    "\n",
    "for name, project_id in projects.items():\n",
    "    try:\n",
    "        client.selected_project = project_id\n",
    "        data = client._get_elements_from_server()\n",
    "        with Path(f\"{name}.json\") as f:\n",
    "            f.write_text(json.dumps(data))\n",
    "        print(f\"Downloaded {name}, commit: {client.selected_commit}\")\n",
    "    except:\n",
    "        print(f\"Failed to download: {name}...\")"
   ]
  },
  {
   "cell_type": "code",
   "execution_count": null,
   "id": "f5a97eed",
   "metadata": {},
   "outputs": [],
   "source": [
    "for id_, el in rdf.elements_by_id.items():\n",
    "    context = el.get(\"@context\")\n",
    "    if context:\n",
    "        print(f\"{id_}: has context ({context})\")\n",
    "    else:\n",
    "        print(f\"{id_} has no context\")"
   ]
  },
  {
   "cell_type": "markdown",
   "id": "f7e9d78b",
   "metadata": {},
   "source": [
    "# Interpretation\n",
    "\n",
    "> This is where we are refactoring the $M_0$ interpretation..."
   ]
  },
  {
   "cell_type": "code",
   "execution_count": null,
   "id": "e46213a5",
   "metadata": {},
   "outputs": [],
   "source": [
    "lpg.sysml_projections[\"Complete\"][\"description\"]"
   ]
  },
  {
   "cell_type": "code",
   "execution_count": null,
   "id": "00f6045a",
   "metadata": {},
   "outputs": [],
   "source": [
    "def safe_get(data: dict, *keys, default=None):\n",
    "    for key in keys:\n",
    "        if key not in data:\n",
    "            return default\n",
    "        data = data[key]\n",
    "    return data\n",
    "\n",
    "safe_get(lpg.elements_by_id, \"cb4386fe-67d9-4743-995f-5d4a4162e26e\", \"owner\", \"@id\")"
   ]
  },
  {
   "cell_type": "code",
   "execution_count": null,
   "id": "16cbb6ec",
   "metadata": {},
   "outputs": [],
   "source": [
    "UNSPECIFIED = object()\n",
    "\n",
    "class SafeDict(dict):\n",
    "\n",
    "    def __init__(self, *args, default=None, **kwargs):\n",
    "        self.__default__ = default or {}\n",
    "        super().__init__(*args, **kwargs)\n",
    "        for key, value in self.items():\n",
    "            self[key] = SafeDict.__convert(value)\n",
    "\n",
    "    def __setitem__(self, k, v):\n",
    "        dict.__setitem__(self, k, SafeDict.__convert(v))\n",
    "\n",
    "    def get(self, item, default=None):\n",
    "        return super().get(item, default) or self.__default__\n",
    "\n",
    "    @staticmethod\n",
    "    def __convert(o):\n",
    "        \"\"\"\n",
    "        Recursively convert `dict` objects in `dict`, `list`, `set`, and\n",
    "        `tuple` objects to `attrdict` objects.\n",
    "        \"\"\"\n",
    "        if isinstance(o, dict):\n",
    "            o = SafeDict(o)\n",
    "        elif isinstance(o, list):\n",
    "            o = list(SafeDict.__convert(v) for v in o)\n",
    "        elif isinstance(o, set):\n",
    "            o = set(SafeDict.__convert(v) for v in o)\n",
    "        elif isinstance(o, tuple):\n",
    "            o = tuple(SafeDict.__convert(v) for v in o)\n",
    "        return o\n",
    "\n",
    "\n",
    "a = SafeDict(dict(agh=1, bum=2, bar=3, baz=dict(bar=2,baz=dict(bar=3,baz=4))))\n",
    "a[\"as\"] = \"if\"\n",
    "a.get(\"as\"), type(a.get(\"baz\")), a.get(\"baz\")"
   ]
  },
  {
   "cell_type": "code",
   "execution_count": null,
   "id": "efdfc656",
   "metadata": {
    "tags": []
   },
   "outputs": [],
   "source": [
    "from pymbe.interpretation import *\n",
    "\n",
    "def roll_up_upper_multiplicities(lpg):\n",
    "    banded_featuring_graph = make_banded_featuring_graph(lpg)\n",
    "\n",
    "    banded_roots = [\n",
    "        banded_featuring_graph.nodes[node]\n",
    "        for node in banded_featuring_graph\n",
    "        if banded_featuring_graph.out_degree(node) == 0\n",
    "    ]\n",
    "    \n",
    "    for part_usage in \n",
    "\n",
    "elements = lpg.elements_by_id\n",
    "\n",
    "features = [\n",
    "    id_\n",
    "    for id_, data in elements.items()\n",
    "    if data[\"@type\"] == \"Feature\"\n",
    "]\n",
    "\n",
    "for feature in features:\n",
    "    upper_multiplicity = get_feature_upper_multiplicity(elements, feature)\n",
    "    if upper_multiplicity:\n",
    "        print(elements[feature][\"qualifiedName\"], upper_multiplicity)"
   ]
  },
  {
   "cell_type": "markdown",
   "id": "3e44f4a9",
   "metadata": {},
   "source": [
    "# Troubleshooting"
   ]
  },
  {
   "cell_type": "markdown",
   "id": "93d4a955",
   "metadata": {},
   "source": [
    "## Fix linking issue with diagram element selector"
   ]
  },
  {
   "cell_type": "code",
   "execution_count": null,
   "id": "7ed96fb9",
   "metadata": {},
   "outputs": [],
   "source": [
    "self = lpg.diagram\n",
    "\n",
    "lpg.selected, self.selected, self.elk_app.diagram.selected"
   ]
  },
  {
   "cell_type": "code",
   "execution_count": null,
   "id": "1a88989b",
   "metadata": {},
   "outputs": [],
   "source": [
    "self.id_mapper.get(*self.elk_app.diagram.selected)"
   ]
  },
  {
   "cell_type": "code",
   "execution_count": null,
   "id": "9989b83e",
   "metadata": {},
   "outputs": [],
   "source": [
    "self._make_id_mapper()"
   ]
  },
  {
   "cell_type": "code",
   "execution_count": null,
   "id": "fe75f5c3",
   "metadata": {},
   "outputs": [],
   "source": [
    "self = lpg\n",
    "\n",
    "self._update_diagram_graph(button=self.filter_to_path)"
   ]
  },
  {
   "cell_type": "code",
   "execution_count": null,
   "id": "21451864",
   "metadata": {},
   "outputs": [],
   "source": [
    "directed = self.path_directionality.value\n",
    "new_graph = self._get_subgraph(\n",
    "            excluded_edge_types=self.excluded_edge_types,\n",
    "            excluded_node_types=self.excluded_node_types,\n",
    "            reversed_edge_types=self.edge_type_reverser.value,\n",
    "        )\n",
    "\n",
    "source, target = self.selected\n",
    "new_graph = self.get_path_graph(\n",
    "    graph=new_graph,\n",
    "    source=source,\n",
    "    target=target,\n",
    "    directed=directed,\n",
    ")\n",
    "len(new_graph)"
   ]
  },
  {
   "cell_type": "code",
   "execution_count": null,
   "id": "45f08cf0",
   "metadata": {},
   "outputs": [],
   "source": [
    "self.diagram.graph = new_graph"
   ]
  },
  {
   "cell_type": "code",
   "execution_count": null,
   "id": "ec5e6493",
   "metadata": {},
   "outputs": [],
   "source": [
    "import traitlets as trt\n",
    "\n",
    "\n",
    "self.diagram._update_diagram(trt.Bunch(old=None))"
   ]
  },
  {
   "cell_type": "code",
   "execution_count": null,
   "id": "34e0854a",
   "metadata": {},
   "outputs": [],
   "source": [
    "len(self.diagram.compound(self.diagram.container)[0])"
   ]
  },
  {
   "cell_type": "code",
   "execution_count": null,
   "id": "bfac4c68",
   "metadata": {},
   "outputs": [],
   "source": [
    "from dataclasses import dataclass, field\n",
    "\n",
    "@dataclass\n",
    "class Mapper:\n",
    "    to_map: dict = field(repr=False)\n",
    "    from_map: dict = field(default=None, repr=False)\n",
    "\n",
    "    def __repr__(self):\n",
    "        return f\"Mapper({len(self.to_map)} Items)\"\n",
    "\n",
    "    def __post_init__(self, *args, **kwargs):\n",
    "        self.from_map = {v: k for k, v in self.to_map.items()}\n",
    "\n",
    "    def get(self, *items):\n",
    "        found = [\n",
    "            self.to_map.get(item, self.from_map.get(item))\n",
    "            for item in items\n",
    "        ]\n",
    "        return [\n",
    "            item\n",
    "            for item in found\n",
    "            if item is not None\n",
    "        ]\n",
    "    \n",
    "    def __len__(self):\n",
    "        return len(self.to_map)\n",
    "\n",
    "if Mapper({}):\n",
    "    print(\"ahh\")"
   ]
  },
  {
   "cell_type": "code",
   "execution_count": null,
   "id": "16a6e7de",
   "metadata": {},
   "outputs": [],
   "source": []
  },
  {
   "cell_type": "markdown",
   "id": "3b14e70b",
   "metadata": {},
   "source": [
    "---------------------"
   ]
  },
  {
   "cell_type": "code",
   "execution_count": null,
   "id": "3aba2b0e",
   "metadata": {},
   "outputs": [],
   "source": [
    "self = lpg.diagram\n",
    "import networkx as nx\n",
    "\n",
    "_, hierarchy = self.elk_app.transformer.source\n",
    "\n",
    "try:\n",
    "    item = lpg.diagram.elk_app.selected[0]\n",
    "    res = next(hierarchy.predecessors(item)).node\n",
    "except nx.NetworkXError:\n",
    "    res = item.data.get(\"properties\", {}).get(\"@id\")\n",
    "\n",
    "res.id, res.data[\"@id\"]"
   ]
  },
  {
   "cell_type": "code",
   "execution_count": null,
   "id": "45202f6b",
   "metadata": {},
   "outputs": [],
   "source": [
    "tree.selected, explorer.selected, lpg.selected"
   ]
  },
  {
   "cell_type": "code",
   "execution_count": null,
   "id": "d5da9004",
   "metadata": {},
   "outputs": [],
   "source": [
    "lpg.diagram.elk_app.diagram.selected"
   ]
  },
  {
   "cell_type": "code",
   "execution_count": null,
   "id": "e5dbee8f",
   "metadata": {},
   "outputs": [],
   "source": [
    "lpg.selected"
   ]
  },
  {
   "cell_type": "code",
   "execution_count": null,
   "id": "47bd22c6",
   "metadata": {
    "tags": []
   },
   "outputs": [],
   "source": [
    "self = lpg.diagram\n",
    "\n",
    "_, hierarchy = self.elk_transformer.source\n",
    "\n",
    "self.parts[self.selected[0]], self.elk_app.selected[0]\n",
    "\n",
    "for selected_id in self.selected:\n",
    "    node_selected = self.parts.get(selected_id)\n",
    "    print(node_selected.id)"
   ]
  },
  {
   "cell_type": "code",
   "execution_count": null,
   "id": "d8489a63",
   "metadata": {},
   "outputs": [],
   "source": [
    "node_selected.children[0] == self.elk_app.selected[0].node"
   ]
  },
  {
   "cell_type": "markdown",
   "id": "4f609ded",
   "metadata": {},
   "source": [
    "---------------"
   ]
  },
  {
   "cell_type": "code",
   "execution_count": null,
   "id": "7db650ff",
   "metadata": {},
   "outputs": [],
   "source": [
    "from dataclasses import dataclass, field\n",
    "\n",
    "\n",
    "@dataclass\n",
    "class Mapper:\n",
    "    to_map: dict = field(repr=False)\n",
    "    from_map: dict = field(default=None, repr=False)\n",
    "        \n",
    "    def __repr__(self):\n",
    "        return f\"Mapper({len(self.to_map)} Items)\"\n",
    "\n",
    "    def __post_init__(self, *args, **kwargs):\n",
    "        self.from_map = {v: k for k, v in self.to_map.items()}\n",
    "\n",
    "    def get(self, *items):\n",
    "        found = [\n",
    "            self.to_map.get(item, self.from_map.get(item))\n",
    "            for item in items\n",
    "        ]\n",
    "        if len(found) < 2:\n",
    "            found = found[0]\n",
    "        return found\n",
    "\n",
    "mapper = Mapper(from_elk_id)\n",
    "\n",
    "mapper.get(*self.elk_app.diagram.selected)"
   ]
  },
  {
   "cell_type": "code",
   "execution_count": null,
   "id": "bbc558cb",
   "metadata": {},
   "outputs": [],
   "source": [
    "a = {1,2,}\n",
    "a.symmetric_difference"
   ]
  },
  {
   "cell_type": "code",
   "execution_count": null,
   "id": "2ddf1260",
   "metadata": {},
   "outputs": [],
   "source": [
    "self = lpg.diagram"
   ]
  },
  {
   "cell_type": "code",
   "execution_count": null,
   "id": "5b990703",
   "metadata": {},
   "outputs": [],
   "source": [
    "relationships, hierarchy = self.elk_app.transformer.source"
   ]
  },
  {
   "cell_type": "code",
   "execution_count": null,
   "id": "0221cb81",
   "metadata": {},
   "outputs": [],
   "source": [
    "transformer = self.elk_app.transformer\n",
    "relationships, hierarchy = transformer.source\n",
    "\n",
    "import ipyelk\n",
    "from ipyelk.contrib.elements import (\n",
    "    Compartment,\n",
    ")\n",
    "\n",
    "def id_from_item(item):\n",
    "    id_ = None\n",
    "    if isinstance(item, ipyelk.transform.Edge):\n",
    "        id_ = item.data.get(\"properties\", {}).get(\"@id\")\n",
    "    elif isinstance(getattr(item, \"node\", None), Compartment):\n",
    "        id_ = next(hierarchy.predecessors(item)).node.id\n",
    "    if id_ is None:\n",
    "        self.log.debug(f\"Could not parse: {item}\")\n",
    "    return id_\n",
    "\n",
    "from_elk_id = {\n",
    "    elk_id: id_from_item(elk_item)\n",
    "    for elk_id, elk_item in transformer._elk_to_item.items()\n",
    "}\n",
    "\n",
    "from_elk_id = {\n",
    "    elk_id: sysml_id\n",
    "    for elk_id, sysml_id in from_elk_id.items()\n",
    "    if sysml_id is not None\n",
    "}\n",
    "found_ids = set(from_elk_id.values())\n",
    "\n",
    "for extra in set(lpg.elements_by_id).symmetric_difference(found_ids):\n",
    "    print(lpg.elements_by_id[extra])\n",
    "\n",
    "\n"
   ]
  },
  {
   "cell_type": "code",
   "execution_count": null,
   "id": "a8a0ff63",
   "metadata": {},
   "outputs": [],
   "source": [
    "transformer.from_id(\"61bd9433-3eec-47f7-af7e-3bf71f19071b\").node"
   ]
  },
  {
   "cell_type": "code",
   "execution_count": null,
   "id": "3038d608",
   "metadata": {},
   "outputs": [],
   "source": [
    "missing = [elk_id for elk_id, our_id in from_elk_id.items() if our_id is None]\n",
    "lpg.diagram.elk_app.diagram.selected = missing"
   ]
  },
  {
   "cell_type": "code",
   "execution_count": null,
   "id": "1f773c07",
   "metadata": {},
   "outputs": [],
   "source": [
    "from_elk_id"
   ]
  },
  {
   "cell_type": "markdown",
   "id": "0058ca79",
   "metadata": {},
   "source": [
    "# Scratch Pad\n",
    "> **WARNING**: Anything below this point is just for experimentation purposes"
   ]
  },
  {
   "cell_type": "markdown",
   "id": "8fc7867e",
   "metadata": {},
   "source": [
    "## RDF Experiments"
   ]
  },
  {
   "cell_type": "code",
   "execution_count": null,
   "id": "3cf86a8b",
   "metadata": {},
   "outputs": [],
   "source": [
    "def process_edge(source, target, edge_type, data=None):\n",
    "    if edge_type in (\"FeatureTyping\", \"FeatureMembership\"):\n",
    "        source, target = target, source\n",
    "    return [source, target, data]\n",
    "\n",
    "graph = nx.DiGraph()\n",
    "graph.add_edges_from([\n",
    "    process_edge(source, target, edge_type, data)\n",
    "    for (source, target, edge_type), data in dict(client.lpg.graph.edges).items()\n",
    "    if edge_type in (\"Superclassing\", \"FeatureTyping\", \"FeatureMembership\")\n",
    "])\n",
    "graph"
   ]
  },
  {
   "cell_type": "code",
   "execution_count": null,
   "id": "c97af903",
   "metadata": {},
   "outputs": [],
   "source": [
    "diagram.graph = graph"
   ]
  },
  {
   "cell_type": "code",
   "execution_count": null,
   "id": "527bbf0d",
   "metadata": {},
   "outputs": [],
   "source": [
    "diagram = client.lpg.make_diagram(\n",
    "    graph=client.lpg.subgraph(edge_types=(\"Superclassing\", \"FeatureTyping^-1\", \"FeatureMembership^-1\"))\n",
    ")\n",
    "elk_app, *_ = diagram.children\n",
    "diagram"
   ]
  },
  {
   "cell_type": "code",
   "execution_count": null,
   "id": "531fd90b",
   "metadata": {},
   "outputs": [],
   "source": [
    "# Select the root node in the diagram...\n",
    "# ... or you can manually select one yourself\n",
    "elk_app.selected = \"5260380b-6fda-43cc-993f-5df58868edbb\","
   ]
  },
  {
   "cell_type": "code",
   "execution_count": null,
   "id": "24fb3e89",
   "metadata": {
    "tags": []
   },
   "outputs": [],
   "source": [
    "first_element_selected, *_ = elk_app.selected\n",
    "client.elements_by_id[first_element_selected]"
   ]
  },
  {
   "cell_type": "markdown",
   "id": "72ccf8e6",
   "metadata": {},
   "source": [
    "# Parse JSON-LD into RDF"
   ]
  },
  {
   "cell_type": "code",
   "execution_count": null,
   "id": "5bbae2f6",
   "metadata": {},
   "outputs": [],
   "source": [
    "import rdflib\n",
    "from rdflib.extras.external_graph_libs import rdflib_to_networkx_multidigraph\n",
    "import networkx as nx\n",
    "import matplotlib.pyplot as plt\n",
    "\n",
    "result = client.rdf.graph\n",
    "# result = g.parse(url, format='turtle')\n",
    "\n",
    "G = rdflib_to_networkx_multidigraph(result)\n",
    "\n",
    "# Plot Networkx instance of RDF Graph\n",
    "pos = nx.spring_layout(G, scale=2)\n",
    "edge_labels = nx.get_edge_attributes(G, 'r')"
   ]
  },
  {
   "cell_type": "code",
   "execution_count": null,
   "id": "a5b97d33",
   "metadata": {},
   "outputs": [],
   "source": [
    "ax = plt.figure(figsize=(50,30)).gca();\n",
    "nx.draw_networkx_edge_labels(G, pos, edge_labels=edge_labels, ax=ax)\n",
    "nx.draw(G, with_labels=True, ax=ax)"
   ]
  },
  {
   "cell_type": "markdown",
   "id": "29c72308",
   "metadata": {},
   "source": [
    "# TODOs\n",
    "1. Finish fleshing out the process in the `Kerbal Model.ipynb`\n",
    "2. Modify the subgraph generator so it can take the value from the `Type Selector` directly\n",
    "3. Improve the ipyelk diagram widget (may need to make improvements to `ipyelk`)\n",
    "   * Add arrows\n",
    "   * Add compartments\n",
    "   * Fix layout\n",
    "   * Add widget to see node details\n",
    "4. Finalize the RDF formulation"
   ]
  }
 ],
 "metadata": {
  "kernelspec": {
   "display_name": "Python 3 (ipykernel)",
   "language": "python",
   "name": "python3"
  },
  "language_info": {
   "codemirror_mode": {
    "name": "ipython",
    "version": 3
   },
   "file_extension": ".py",
   "mimetype": "text/x-python",
   "name": "python",
   "nbconvert_exporter": "python",
   "pygments_lexer": "ipython3",
   "version": "3.9.6"
  }
 },
 "nbformat": 4,
 "nbformat_minor": 5
}
